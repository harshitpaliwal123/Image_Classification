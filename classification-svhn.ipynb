{
 "cells": [
  {
   "cell_type": "code",
   "execution_count": 1,
   "metadata": {},
   "outputs": [
    {
     "name": "stderr",
     "output_type": "stream",
     "text": [
      "C:\\Users\\HARSHIT\\Anaconda3\\lib\\site-packages\\h5py\\__init__.py:36: FutureWarning: Conversion of the second argument of issubdtype from `float` to `np.floating` is deprecated. In future, it will be treated as `np.float64 == np.dtype(float).type`.\n",
      "  from ._conv import register_converters as _register_converters\n",
      "Using TensorFlow backend.\n"
     ]
    }
   ],
   "source": [
    "import os # For operating system dependent functionality\n",
    "import cv2 # OpenCV array structures are converted to and from Numpy arrays - For reading Images\n",
    "import glob # Find all the pathnames matching a specified pattern\n",
    "import numpy as np # A powerful N-dimensional array object\n",
    "import pandas as pd # Data frame manipulation\n",
    "from matplotlib import pyplot as plt # Plotting graphs\n",
    "import seaborn as sns # Plotting graphs\n",
    "from keras.utils import np_utils # Modelling\n",
    "from sklearn.metrics import accuracy_score, classification_report # Modelling\n",
    "from PIL import Image "
   ]
  },
  {
   "cell_type": "code",
   "execution_count": 5,
   "metadata": {},
   "outputs": [],
   "source": [
    "from keras.models import Sequential \n",
    "from keras.layers import Convolution2D \n",
    "from keras.layers import MaxPooling2D\n",
    "from keras.layers import Flatten\n",
    "from keras.layers import Dense\n",
    "from keras.layers.core import Activation, Dropout"
   ]
  },
  {
   "cell_type": "code",
   "execution_count": 6,
   "metadata": {},
   "outputs": [
    {
     "ename": "NotImplementedError",
     "evalue": "Please use HDF reader for matlab v7.3 files",
     "output_type": "error",
     "traceback": [
      "\u001b[1;31m---------------------------------------------------------------------------\u001b[0m",
      "\u001b[1;31mNotImplementedError\u001b[0m                       Traceback (most recent call last)",
      "\u001b[1;32m<ipython-input-6-5523774babab>\u001b[0m in \u001b[0;36m<module>\u001b[1;34m()\u001b[0m\n\u001b[0;32m      1\u001b[0m \u001b[1;32mimport\u001b[0m \u001b[0mscipy\u001b[0m\u001b[1;33m.\u001b[0m\u001b[0mio\u001b[0m\u001b[1;33m\u001b[0m\u001b[0m\n\u001b[1;32m----> 2\u001b[1;33m \u001b[0mmat\u001b[0m \u001b[1;33m=\u001b[0m \u001b[0mscipy\u001b[0m\u001b[1;33m.\u001b[0m\u001b[0mio\u001b[0m\u001b[1;33m.\u001b[0m\u001b[0mloadmat\u001b[0m\u001b[1;33m(\u001b[0m\u001b[1;34m'E:/Text recog/train/digitStruct.mat'\u001b[0m\u001b[1;33m)\u001b[0m\u001b[1;33m\u001b[0m\u001b[0m\n\u001b[0m",
      "\u001b[1;32m~\\Anaconda3\\lib\\site-packages\\scipy\\io\\matlab\\mio.py\u001b[0m in \u001b[0;36mloadmat\u001b[1;34m(file_name, mdict, appendmat, **kwargs)\u001b[0m\n\u001b[0;32m    139\u001b[0m     \"\"\"\n\u001b[0;32m    140\u001b[0m     \u001b[0mvariable_names\u001b[0m \u001b[1;33m=\u001b[0m \u001b[0mkwargs\u001b[0m\u001b[1;33m.\u001b[0m\u001b[0mpop\u001b[0m\u001b[1;33m(\u001b[0m\u001b[1;34m'variable_names'\u001b[0m\u001b[1;33m,\u001b[0m \u001b[1;32mNone\u001b[0m\u001b[1;33m)\u001b[0m\u001b[1;33m\u001b[0m\u001b[0m\n\u001b[1;32m--> 141\u001b[1;33m     \u001b[0mMR\u001b[0m\u001b[1;33m,\u001b[0m \u001b[0mfile_opened\u001b[0m \u001b[1;33m=\u001b[0m \u001b[0mmat_reader_factory\u001b[0m\u001b[1;33m(\u001b[0m\u001b[0mfile_name\u001b[0m\u001b[1;33m,\u001b[0m \u001b[0mappendmat\u001b[0m\u001b[1;33m,\u001b[0m \u001b[1;33m**\u001b[0m\u001b[0mkwargs\u001b[0m\u001b[1;33m)\u001b[0m\u001b[1;33m\u001b[0m\u001b[0m\n\u001b[0m\u001b[0;32m    142\u001b[0m     \u001b[0mmatfile_dict\u001b[0m \u001b[1;33m=\u001b[0m \u001b[0mMR\u001b[0m\u001b[1;33m.\u001b[0m\u001b[0mget_variables\u001b[0m\u001b[1;33m(\u001b[0m\u001b[0mvariable_names\u001b[0m\u001b[1;33m)\u001b[0m\u001b[1;33m\u001b[0m\u001b[0m\n\u001b[0;32m    143\u001b[0m     \u001b[1;32mif\u001b[0m \u001b[0mmdict\u001b[0m \u001b[1;32mis\u001b[0m \u001b[1;32mnot\u001b[0m \u001b[1;32mNone\u001b[0m\u001b[1;33m:\u001b[0m\u001b[1;33m\u001b[0m\u001b[0m\n",
      "\u001b[1;32m~\\Anaconda3\\lib\\site-packages\\scipy\\io\\matlab\\mio.py\u001b[0m in \u001b[0;36mmat_reader_factory\u001b[1;34m(file_name, appendmat, **kwargs)\u001b[0m\n\u001b[0;32m     69\u001b[0m         \u001b[1;32mreturn\u001b[0m \u001b[0mMatFile5Reader\u001b[0m\u001b[1;33m(\u001b[0m\u001b[0mbyte_stream\u001b[0m\u001b[1;33m,\u001b[0m \u001b[1;33m**\u001b[0m\u001b[0mkwargs\u001b[0m\u001b[1;33m)\u001b[0m\u001b[1;33m,\u001b[0m \u001b[0mfile_opened\u001b[0m\u001b[1;33m\u001b[0m\u001b[0m\n\u001b[0;32m     70\u001b[0m     \u001b[1;32melif\u001b[0m \u001b[0mmjv\u001b[0m \u001b[1;33m==\u001b[0m \u001b[1;36m2\u001b[0m\u001b[1;33m:\u001b[0m\u001b[1;33m\u001b[0m\u001b[0m\n\u001b[1;32m---> 71\u001b[1;33m         \u001b[1;32mraise\u001b[0m \u001b[0mNotImplementedError\u001b[0m\u001b[1;33m(\u001b[0m\u001b[1;34m'Please use HDF reader for matlab v7.3 files'\u001b[0m\u001b[1;33m)\u001b[0m\u001b[1;33m\u001b[0m\u001b[0m\n\u001b[0m\u001b[0;32m     72\u001b[0m     \u001b[1;32melse\u001b[0m\u001b[1;33m:\u001b[0m\u001b[1;33m\u001b[0m\u001b[0m\n\u001b[0;32m     73\u001b[0m         \u001b[1;32mraise\u001b[0m \u001b[0mTypeError\u001b[0m\u001b[1;33m(\u001b[0m\u001b[1;34m'Did not recognize version %s'\u001b[0m \u001b[1;33m%\u001b[0m \u001b[0mmjv\u001b[0m\u001b[1;33m)\u001b[0m\u001b[1;33m\u001b[0m\u001b[0m\n",
      "\u001b[1;31mNotImplementedError\u001b[0m: Please use HDF reader for matlab v7.3 files"
     ]
    }
   ],
   "source": [
    "import scipy.io\n",
    "mat = scipy.io.loadmat('E:/Text recog/train/digitStruct.mat')"
   ]
  },
  {
   "cell_type": "code",
   "execution_count": 7,
   "metadata": {},
   "outputs": [],
   "source": [
    "import h5py \n",
    "f= h5py.File('E:/Text recog/train/digitStruct.mat','r')"
   ]
  },
  {
   "cell_type": "code",
   "execution_count": 8,
   "metadata": {},
   "outputs": [],
   "source": [
    "items = f.items()\n",
    "keys = f.keys()"
   ]
  },
  {
   "cell_type": "code",
   "execution_count": 9,
   "metadata": {},
   "outputs": [
    {
     "ename": "KeyError",
     "evalue": "\"Can't open attribute (can't locate attribute: 'name')\"",
     "output_type": "error",
     "traceback": [
      "\u001b[1;31m---------------------------------------------------------------------------\u001b[0m",
      "\u001b[1;31mKeyError\u001b[0m                                  Traceback (most recent call last)",
      "\u001b[1;32m<ipython-input-9-fafab4650955>\u001b[0m in \u001b[0;36m<module>\u001b[1;34m()\u001b[0m\n\u001b[0;32m      1\u001b[0m \u001b[0mlist\u001b[0m\u001b[1;33m(\u001b[0m\u001b[0mf\u001b[0m\u001b[1;33m.\u001b[0m\u001b[0mkeys\u001b[0m\u001b[1;33m(\u001b[0m\u001b[1;33m)\u001b[0m\u001b[1;33m)\u001b[0m\u001b[1;33m\u001b[0m\u001b[0m\n\u001b[0;32m      2\u001b[0m \u001b[0mlist\u001b[0m\u001b[1;33m(\u001b[0m\u001b[0mf\u001b[0m\u001b[1;33m[\u001b[0m\u001b[1;34m'digitStruct'\u001b[0m\u001b[1;33m]\u001b[0m\u001b[1;33m.\u001b[0m\u001b[0mkeys\u001b[0m\u001b[1;33m(\u001b[0m\u001b[1;33m)\u001b[0m\u001b[1;33m)\u001b[0m\u001b[1;33m\u001b[0m\u001b[0m\n\u001b[1;32m----> 3\u001b[1;33m \u001b[0mf\u001b[0m\u001b[1;33m[\u001b[0m\u001b[1;34m'digitStruct'\u001b[0m\u001b[1;33m]\u001b[0m\u001b[1;33m.\u001b[0m\u001b[0mattrs\u001b[0m\u001b[1;33m[\u001b[0m\u001b[1;34m'name'\u001b[0m\u001b[1;33m]\u001b[0m\u001b[1;33m\u001b[0m\u001b[0m\n\u001b[0m",
      "\u001b[1;32mh5py\\_objects.pyx\u001b[0m in \u001b[0;36mh5py._objects.with_phil.wrapper\u001b[1;34m()\u001b[0m\n",
      "\u001b[1;32mh5py\\_objects.pyx\u001b[0m in \u001b[0;36mh5py._objects.with_phil.wrapper\u001b[1;34m()\u001b[0m\n",
      "\u001b[1;32m~\\Anaconda3\\lib\\site-packages\\h5py\\_hl\\attrs.py\u001b[0m in \u001b[0;36m__getitem__\u001b[1;34m(self, name)\u001b[0m\n\u001b[0;32m     58\u001b[0m         \"\"\" Read the value of an attribute.\n\u001b[0;32m     59\u001b[0m         \"\"\"\n\u001b[1;32m---> 60\u001b[1;33m         \u001b[0mattr\u001b[0m \u001b[1;33m=\u001b[0m \u001b[0mh5a\u001b[0m\u001b[1;33m.\u001b[0m\u001b[0mopen\u001b[0m\u001b[1;33m(\u001b[0m\u001b[0mself\u001b[0m\u001b[1;33m.\u001b[0m\u001b[0m_id\u001b[0m\u001b[1;33m,\u001b[0m \u001b[0mself\u001b[0m\u001b[1;33m.\u001b[0m\u001b[0m_e\u001b[0m\u001b[1;33m(\u001b[0m\u001b[0mname\u001b[0m\u001b[1;33m)\u001b[0m\u001b[1;33m)\u001b[0m\u001b[1;33m\u001b[0m\u001b[0m\n\u001b[0m\u001b[0;32m     61\u001b[0m \u001b[1;33m\u001b[0m\u001b[0m\n\u001b[0;32m     62\u001b[0m         \u001b[1;32mif\u001b[0m \u001b[0mis_empty_dataspace\u001b[0m\u001b[1;33m(\u001b[0m\u001b[0mattr\u001b[0m\u001b[1;33m)\u001b[0m\u001b[1;33m:\u001b[0m\u001b[1;33m\u001b[0m\u001b[0m\n",
      "\u001b[1;32mh5py\\_objects.pyx\u001b[0m in \u001b[0;36mh5py._objects.with_phil.wrapper\u001b[1;34m()\u001b[0m\n",
      "\u001b[1;32mh5py\\_objects.pyx\u001b[0m in \u001b[0;36mh5py._objects.with_phil.wrapper\u001b[1;34m()\u001b[0m\n",
      "\u001b[1;32mh5py\\h5a.pyx\u001b[0m in \u001b[0;36mh5py.h5a.open\u001b[1;34m()\u001b[0m\n",
      "\u001b[1;31mKeyError\u001b[0m: \"Can't open attribute (can't locate attribute: 'name')\""
     ]
    }
   ],
   "source": [
    "list(f.keys())\n",
    "list(f['digitStruct'].keys())\n",
    "f['digitStruct'].attrs['name']"
   ]
  },
  {
   "cell_type": "code",
   "execution_count": 10,
   "metadata": {},
   "outputs": [
    {
     "name": "stdout",
     "output_type": "stream",
     "text": [
      "/digitStruct\n",
      "<class 'h5py._hl.group.Group'>\n",
      "<class 'list'>\n",
      "bbox\n",
      "name\n",
      "1\n",
      ".\n",
      "p\n",
      "n\n",
      "g\n"
     ]
    }
   ],
   "source": [
    "data = f['digitStruct']\n",
    "names = list(data['name'])\n",
    "print(data.name)\n",
    "#print(names.name)\n",
    "print(type(data))\n",
    "print(type(names))\n",
    "names[0]\n",
    "\n",
    "#Checkout what keys are inside that group.\n",
    "for key in data.keys():\n",
    "    print(key)\n",
    "\n",
    "names = data['name']\n",
    "names[0][0]\n",
    "v = data[names[0][0]].value\n",
    "for asc in v:\n",
    "    print(chr(asc))\n",
    "#print(names[0])\n",
    "#Do whatever you want with data\n",
    "\n",
    "#After you are done\n",
    "#data.close()"
   ]
  },
  {
   "cell_type": "code",
   "execution_count": 11,
   "metadata": {},
   "outputs": [],
   "source": [
    "def get_box_data(index, f):\n",
    "    \"\"\"\n",
    "    get `left, top, width, height` of each picture\n",
    "    :param index:\n",
    "    :param hdf5_data:\n",
    "    :return:\n",
    "    \"\"\"\n",
    "    meta_data = dict()\n",
    "    meta_data['height'] = []\n",
    "    meta_data['label'] = []\n",
    "    meta_data['left'] = []\n",
    "    meta_data['top'] = []\n",
    "    meta_data['width'] = []\n",
    "\n",
    "    def print_attrs(name, obj):\n",
    "        vals = []\n",
    "        if obj.shape[0] == 1:\n",
    "            vals.append(int(obj[0][0]))\n",
    "        else:\n",
    "            for k in range(obj.shape[0]):\n",
    "                vals.append(int(f[obj[k][0]][0][0]))\n",
    "        meta_data[name] = vals\n",
    "\n",
    "    box = f['/digitStruct/bbox'][index]\n",
    "    f[box[0]].visititems(print_attrs)\n",
    "    return meta_data\n",
    "\n",
    "def get_name(index, f):\n",
    "    name = f['/digitStruct/name']\n",
    "    return ''.join([chr(v[0]) for v in f[name[index][0]].value])"
   ]
  },
  {
   "cell_type": "code",
   "execution_count": 12,
   "metadata": {},
   "outputs": [],
   "source": [
    "folder = 'E:/Text recog/train'\n",
    "import tqdm"
   ]
  },
  {
   "cell_type": "code",
   "execution_count": 13,
   "metadata": {},
   "outputs": [
    {
     "name": "stderr",
     "output_type": "stream",
     "text": [
      "100%|██████████| 33402/33402 [04:27<00:00, 125.09it/s]\n"
     ]
    }
   ],
   "source": [
    "mat_data = h5py.File(os.path.join(folder, 'digitStruct.mat'))\n",
    "size = mat_data['/digitStruct/name'].size\n",
    "\n",
    "for _i in tqdm.tqdm(range(size)):\n",
    "    pic = get_name(_i, mat_data)\n",
    "    box = get_box_data(_i, mat_data)"
   ]
  },
  {
   "cell_type": "code",
   "execution_count": 11,
   "metadata": {},
   "outputs": [
    {
     "name": "stdout",
     "output_type": "stream",
     "text": [
      "157.png\n"
     ]
    },
    {
     "data": {
      "text/plain": [
       "{'height': [37, 37],\n",
       " 'label': [5, 7],\n",
       " 'left': [37, 65],\n",
       " 'top': [7, 7],\n",
       " 'width': [26, 23]}"
      ]
     },
     "execution_count": 11,
     "metadata": {},
     "output_type": "execute_result"
    }
   ],
   "source": [
    "print(get_name(156,f))\n",
    "get_box_data(156,f)"
   ]
  },
  {
   "cell_type": "code",
   "execution_count": 321,
   "metadata": {},
   "outputs": [
    {
     "name": "stdout",
     "output_type": "stream",
     "text": [
      "3100.png\n",
      "{'height': [38, 38, 38], 'label': [1, 2, 6], 'left': [-1, 4, 22], 'top': [12, 12, 13], 'width': [3, 18, 17]}\n"
     ]
    }
   ],
   "source": [
    "print(get_name(3099,f))\n",
    "print(get_box_data(3099,f))"
   ]
  },
  {
   "cell_type": "code",
   "execution_count": 14,
   "metadata": {},
   "outputs": [
    {
     "name": "stdout",
     "output_type": "stream",
     "text": [
      "33402\n"
     ]
    },
    {
     "name": "stderr",
     "output_type": "stream",
     "text": [
      "100%|██████████| 33402/33402 [04:45<00:00, 116.84it/s]\n"
     ]
    }
   ],
   "source": [
    "#IMporting training dataset \n",
    "\n",
    "PATH = r'E:/Text recog/train/*.png'\n",
    "files = glob.glob(PATH)\n",
    "X_train = [ None for i in range(len(files))]\n",
    "print(len(files))\n",
    "for fl in tqdm.tqdm(files):\n",
    "    flbase = os.path.basename(fl)\n",
    "    idx = int(flbase[:-4])-1\n",
    "    img = cv2.imread(fl, 0)\n",
    "    #X_train.append(img)\n",
    "    #X_name.append(flbase)\n",
    "    X_train[idx] = img"
   ]
  },
  {
   "cell_type": "code",
   "execution_count": 15,
   "metadata": {},
   "outputs": [
    {
     "data": {
      "text/plain": [
       "<matplotlib.image.AxesImage at 0x27a1bd64080>"
      ]
     },
     "execution_count": 15,
     "metadata": {},
     "output_type": "execute_result"
    },
    {
     "data": {
      "image/png": "[encoded data removed]",
      "text/plain": [
       "<matplotlib.figure.Figure at 0x27a04a9ce10>"
      ]
     },
     "metadata": {},
     "output_type": "display_data"
    }
   ],
   "source": [
    "plt.imshow(X_train[156])"
   ]
  },
  {
   "cell_type": "code",
   "execution_count": 16,
   "metadata": {},
   "outputs": [
    {
     "name": "stderr",
     "output_type": "stream",
     "text": [
      "100%|██████████| 8350/8350 [09:49<00:00, 15.45it/s]\n"
     ]
    },
    {
     "data": {
      "image/png": "[encoded data removed]",
      "text/plain": [
       "<matplotlib.figure.Figure at 0x27a04a91400>"
      ]
     },
     "metadata": {},
     "output_type": "display_data"
    },
    {
     "data": {
      "text/plain": [
       "\"\\ni = 156\\nx = get_box_data(i,f)['left'][0]\\ny = get_box_data(i,f)['top'][0]\\nw = get_box_data(i,f)['width'][0]\\nh = get_box_data(i,f)['height'][0]\\ncrop = X_train[i][y:y+h, x:x+w]\\nimgplot = plt.imshow(crop)\\nplt.show()\\n\""
      ]
     },
     "execution_count": 16,
     "metadata": {},
     "output_type": "execute_result"
    }
   ],
   "source": [
    "#cropping images\n",
    "crop_imgs = []\n",
    "crop_imgs_label =[]\n",
    "for i in tqdm.tqdm(range(int(len(files)/4))):\n",
    "    for j in range(len(get_box_data(i,f)['height'])):\n",
    "        x = get_box_data(i,f)['left'][j]\n",
    "        y = get_box_data(i,f)['top'][j]\n",
    "        w = get_box_data(i,f)['width'][j]\n",
    "        h = get_box_data(i,f)['height'][j]\n",
    "\n",
    "        crop = X_train[i][y:y+h, x:x+w]\n",
    "        crop_imgs.append(crop) \n",
    "        crop_imgs_label.append(get_box_data(i,f)['label'][j])\n",
    "       \n",
    "\n",
    "plt.imshow(crop_imgs[11])\n",
    "plt.show()\n",
    "'''\n",
    "i = 156\n",
    "x = get_box_data(i,f)['left'][0]\n",
    "y = get_box_data(i,f)['top'][0]\n",
    "w = get_box_data(i,f)['width'][0]\n",
    "h = get_box_data(i,f)['height'][0]\n",
    "crop = X_train[i][y:y+h, x:x+w]\n",
    "imgplot = plt.imshow(crop)\n",
    "plt.show()\n",
    "'''\n",
    "#crop_img = img[y:y+h, x:x+w]\n",
    "#cv2.imshow(\"cropped\", crop_img)\n",
    "#cv2.waitKey(0)"
   ]
  },
  {
   "cell_type": "code",
   "execution_count": 17,
   "metadata": {},
   "outputs": [],
   "source": [
    "filenames = []\n",
    "for i in (range(int(len(files)/4))):\n",
    "    for j in range(len(get_box_data(i,f)['height'])):\n",
    "        filenames.append(i)\n",
    "        "
   ]
  },
  {
   "cell_type": "code",
   "execution_count": 19,
   "metadata": {},
   "outputs": [
    {
     "name": "stdout",
     "output_type": "stream",
     "text": [
      "3099\n",
      "2\n"
     ]
    }
   ],
   "source": [
    "#Counter\n",
    "\n",
    "\n",
    "print(filenames[6875])\n",
    "print(crop_imgs_label[1571])\n"
   ]
  },
  {
   "cell_type": "code",
   "execution_count": 20,
   "metadata": {},
   "outputs": [
    {
     "name": "stdout",
     "output_type": "stream",
     "text": [
      "(108, 0)\n"
     ]
    }
   ],
   "source": [
    "print(crop_imgs[1571].shape)\n"
   ]
  },
  {
   "cell_type": "code",
   "execution_count": 21,
   "metadata": {
    "scrolled": true
   },
   "outputs": [
    {
     "data": {
      "text/plain": [
       "33.93898323535815"
      ]
     },
     "execution_count": 21,
     "metadata": {},
     "output_type": "execute_result"
    },
    {
     "data": {
      "image/png": "[encoded data removed]",
      "text/plain": [
       "<matplotlib.figure.Figure at 0x27a1d221080>"
      ]
     },
     "metadata": {},
     "output_type": "display_data"
    }
   ],
   "source": [
    "# Checking the width distribution of images\n",
    "\n",
    "\n",
    "heights = []\n",
    "width = []\n",
    "for i in range(len(crop_imgs)):\n",
    "    x= crop_imgs[i].shape[1]\n",
    "    heights.append(x)\n",
    "    z= crop_imgs[i].shape[0]\n",
    "    width.append(z)\n",
    "plt.hist(heights,bins=20)\n",
    "plt.hist(width,bins=20, alpha = 0.2)\n",
    "np.mean(width)"
   ]
  },
  {
   "cell_type": "code",
   "execution_count": 300,
   "metadata": {},
   "outputs": [
    {
     "name": "stdout",
     "output_type": "stream",
     "text": [
      "543 (30, 0)\n",
      "1571 (108, 0)\n",
      "6875 (38, 0)\n",
      "11710 (40, 0)\n",
      "15150 (69, 0)\n"
     ]
    }
   ],
   "source": [
    "# Making the images into squares for feeding in the CNN\n",
    "\n",
    "from PIL import Image\n",
    "sqr_img = []\n",
    "for i in range(len(crop_imgs)):\n",
    "    \n",
    "    im = crop_imgs[i]\n",
    "    if im.shape[0] >= im.shape[1] :\n",
    "        sqrWidth = im.shape[0]\n",
    "    else :\n",
    "        sqrWidth = im.shape[1]\n",
    "    assert(sqrWidth>0)\n",
    "    #assert(np.size(im)>0)\n",
    "    if(np.size(im)==0):\n",
    "        print(i,im.shape)\n",
    "        continue\n",
    "    im_resize = cv2.resize(im, (sqrWidth, sqrWidth),interpolation = cv2.INTER_CUBIC )\n",
    "    sqr_img.append(im_resize)"
   ]
  },
  {
   "cell_type": "code",
   "execution_count": 322,
   "metadata": {},
   "outputs": [],
   "source": [
    "#Making all images to 36*36\n",
    "\n",
    "sqr_img_small = []\n",
    "\n",
    "for i in range(len(sqr_img)):\n",
    "    \n",
    "    im2 = sqr_img[i]\n",
    "    \n",
    "    im_resize2 = cv2.resize(im2, (36, 36),interpolation = cv2.INTER_CUBIC )\n",
    "    sqr_img_small.append(im_resize2)"
   ]
  },
  {
   "cell_type": "code",
   "execution_count": 323,
   "metadata": {},
   "outputs": [
    {
     "data": {
      "image/png": "[encoded data removed]",
      "text/plain": [
       "<matplotlib.figure.Figure at 0x2b9304b2c18>"
      ]
     },
     "metadata": {},
     "output_type": "display_data"
    },
    {
     "name": "stdout",
     "output_type": "stream",
     "text": [
      "(36, 36)\n",
      "9\n"
     ]
    }
   ],
   "source": [
    "#Verifying labels vs images (squared)\n",
    "i=1\n",
    "\n",
    "plt.imshow(sqr_img_small[i])\n",
    "plt.show()\n",
    "print(sqr_img_small[i].shape)\n",
    "print(crop_imgs_label[i])"
   ]
  },
  {
   "cell_type": "code",
   "execution_count": null,
   "metadata": {},
   "outputs": [],
   "source": []
  },
  {
   "cell_type": "code",
   "execution_count": 19,
   "metadata": {},
   "outputs": [
    {
     "data": {
      "image/png": "[encoded data removed]",
      "text/plain": [
       "<matplotlib.figure.Figure at 0x2b9206494e0>"
      ]
     },
     "metadata": {},
     "output_type": "display_data"
    },
    {
     "name": "stdout",
     "output_type": "stream",
     "text": [
      "2\n"
     ]
    }
   ],
   "source": [
    "#Verifying labels vs images (squared)\n",
    "\n",
    "i=86\n",
    "\n",
    "plt.imshow(sqr_img[i])\n",
    "plt.show()\n",
    "im_resize.shape\n",
    "print(crop_imgs_label[i])"
   ]
  },
  {
   "cell_type": "code",
   "execution_count": 178,
   "metadata": {},
   "outputs": [
    {
     "name": "stdout",
     "output_type": "stream",
     "text": [
      "(34, 34)\n",
      "(220,)\n"
     ]
    }
   ],
   "source": [
    "print(sqr_img[6].shape)\n",
    "print(np.asarray(sqr_img).shape)"
   ]
  },
  {
   "cell_type": "code",
   "execution_count": 351,
   "metadata": {},
   "outputs": [
    {
     "ename": "error",
     "evalue": "OpenCV(3.4.4) C:\\projects\\opencv-python\\opencv\\modules\\core\\src\\copy.cpp:1186: error: (-215:Assertion failed) top >= 0 && bottom >= 0 && left >= 0 && right >= 0 && _src.dims() <= 2 in function 'cv::copyMakeBorder'\n",
     "output_type": "error",
     "traceback": [
      "\u001b[1;31m---------------------------------------------------------------------------\u001b[0m",
      "\u001b[1;31merror\u001b[0m                                     Traceback (most recent call last)",
      "\u001b[1;32m<ipython-input-351-b71150c116e2>\u001b[0m in \u001b[0;36m<module>\u001b[1;34m()\u001b[0m\n\u001b[0;32m      6\u001b[0m     \u001b[1;32mif\u001b[0m \u001b[1;33m(\u001b[0m\u001b[1;36m2\u001b[0m\u001b[1;33m*\u001b[0m\u001b[0mwidth\u001b[0m\u001b[1;33m)\u001b[0m\u001b[1;33m+\u001b[0m \u001b[0msqr_img\u001b[0m\u001b[1;33m[\u001b[0m\u001b[0mi\u001b[0m\u001b[1;33m]\u001b[0m\u001b[1;33m.\u001b[0m\u001b[0mshape\u001b[0m\u001b[1;33m[\u001b[0m\u001b[1;36m1\u001b[0m\u001b[1;33m]\u001b[0m \u001b[1;33m==\u001b[0m \u001b[1;36m219\u001b[0m \u001b[1;33m:\u001b[0m\u001b[1;33m\u001b[0m\u001b[0m\n\u001b[0;32m      7\u001b[0m \u001b[1;33m\u001b[0m\u001b[0m\n\u001b[1;32m----> 8\u001b[1;33m         \u001b[0mimage\u001b[0m \u001b[1;33m=\u001b[0m \u001b[0mcv2\u001b[0m\u001b[1;33m.\u001b[0m\u001b[0mcopyMakeBorder\u001b[0m\u001b[1;33m(\u001b[0m \u001b[0msqr_img\u001b[0m\u001b[1;33m[\u001b[0m\u001b[0mi\u001b[0m\u001b[1;33m]\u001b[0m\u001b[1;33m,\u001b[0m \u001b[0mwidth\u001b[0m \u001b[1;33m,\u001b[0m \u001b[0mwidth\u001b[0m \u001b[1;33m,\u001b[0m \u001b[0mwidth\u001b[0m \u001b[1;33m,\u001b[0m \u001b[0mwidth\u001b[0m \u001b[1;33m,\u001b[0m \u001b[0mcv2\u001b[0m\u001b[1;33m.\u001b[0m\u001b[0mBORDER_CONSTANT\u001b[0m\u001b[1;33m)\u001b[0m\u001b[1;33m\u001b[0m\u001b[0m\n\u001b[0m\u001b[0;32m      9\u001b[0m \u001b[1;33m\u001b[0m\u001b[0m\n\u001b[0;32m     10\u001b[0m     \u001b[1;32melse\u001b[0m \u001b[1;33m:\u001b[0m\u001b[1;33m\u001b[0m\u001b[0m\n",
      "\u001b[1;31merror\u001b[0m: OpenCV(3.4.4) C:\\projects\\opencv-python\\opencv\\modules\\core\\src\\copy.cpp:1186: error: (-215:Assertion failed) top >= 0 && bottom >= 0 && left >= 0 && right >= 0 && _src.dims() <= 2 in function 'cv::copyMakeBorder'\n"
     ]
    }
   ],
   "source": [
    "#Resizing to 219*219\n",
    "\n",
    "sqr_pad = []\n",
    "for i in range(len(sqr_img)):\n",
    "    width = int((219- (sqr_img[i].shape[1]))/2)\n",
    "    if (2*width)+ sqr_img[i].shape[1] == 219 :\n",
    "        \n",
    "        image = cv2.copyMakeBorder( sqr_img[i], width , width , width , width , cv2.BORDER_)\n",
    "     \n",
    "    else :\n",
    "        image = cv2.copyMakeBorder( sqr_img[i], width+1 , width , width+1 , width , cv2.BORDER_CONSTANT)  \n",
    "    sqr_pad.append(image)"
   ]
  },
  {
   "cell_type": "code",
   "execution_count": 202,
   "metadata": {},
   "outputs": [
    {
     "data": {
      "image/png": "[encoded data removed]",
      "text/plain": [
       "<matplotlib.figure.Figure at 0x2b927d0c978>"
      ]
     },
     "metadata": {},
     "output_type": "display_data"
    },
    {
     "name": "stdout",
     "output_type": "stream",
     "text": [
      "(219, 219)\n"
     ]
    },
    {
     "data": {
      "text/plain": [
       "4"
      ]
     },
     "execution_count": 202,
     "metadata": {},
     "output_type": "execute_result"
    }
   ],
   "source": [
    "i=15\n",
    "\n",
    "plt.imshow(sqr_pad[i])\n",
    "plt.show()\n",
    "print(sqr_pad[i].shape)\n",
    "crop_imgs_label[i]"
   ]
  },
  {
   "cell_type": "code",
   "execution_count": 113,
   "metadata": {},
   "outputs": [
    {
     "data": {
      "image/png": "[encoded data removed]",
      "text/plain": [
       "<matplotlib.figure.Figure at 0x2b92114fef0>"
      ]
     },
     "metadata": {},
     "output_type": "display_data"
    },
    {
     "name": "stdout",
     "output_type": "stream",
     "text": [
      "1\n"
     ]
    }
   ],
   "source": [
    "#Verifying labels vs images (squared)\n",
    "\n",
    "i=0\n",
    "\n",
    "plt.imshow(sqr_img_resize[i])\n",
    "plt.show()\n",
    "im_resize.shape\n",
    "print(crop_imgs_label[i])"
   ]
  },
  {
   "cell_type": "code",
   "execution_count": 324,
   "metadata": {},
   "outputs": [
    {
     "name": "stdout",
     "output_type": "stream",
     "text": [
      "<class 'numpy.ndarray'>\n",
      "[[ 65  67  74 ...  82  80  80]\n",
      " [ 70  72  71 ...  81  82  83]\n",
      " [ 71  72  71 ...  79  81  83]\n",
      " ...\n",
      " [ 91  89  89 ... 100 101 102]\n",
      " [101 100 102 ... 103 102 102]\n",
      " [101 100 102 ... 102 106 102]]\n"
     ]
    }
   ],
   "source": [
    "#Model Creation \n",
    "\n",
    "\n",
    "X_training = sqr_img_small\n",
    "X_training = np.array(X_training)\n",
    "print(type(X_training))\n",
    "print(X_training[1])\n",
    "#X_training /= 255\n"
   ]
  },
  {
   "cell_type": "code",
   "execution_count": 325,
   "metadata": {},
   "outputs": [],
   "source": [
    "X_training = X_training.reshape(X_training.shape[0], 36, 36,1)"
   ]
  },
  {
   "cell_type": "code",
   "execution_count": 326,
   "metadata": {},
   "outputs": [
    {
     "data": {
      "text/plain": [
       "(18367, 36, 36, 1)"
      ]
     },
     "execution_count": 326,
     "metadata": {},
     "output_type": "execute_result"
    }
   ],
   "source": [
    "X_training.shape"
   ]
  },
  {
   "cell_type": "code",
   "execution_count": 328,
   "metadata": {},
   "outputs": [
    {
     "data": {
      "text/plain": [
       "3"
      ]
     },
     "execution_count": 328,
     "metadata": {},
     "output_type": "execute_result"
    }
   ],
   "source": [
    "crop_imgs_label.pop(543)\n",
    "crop_imgs_label.pop(1571)\n",
    "crop_imgs_label.pop(6875)\n",
    "crop_imgs_label.pop(11710)\n",
    "crop_imgs_label.pop(15150)"
   ]
  },
  {
   "cell_type": "code",
   "execution_count": 329,
   "metadata": {},
   "outputs": [
    {
     "data": {
      "text/plain": [
       "18367"
      ]
     },
     "execution_count": 329,
     "metadata": {},
     "output_type": "execute_result"
    }
   ],
   "source": [
    "len(crop_imgs_label)"
   ]
  },
  {
   "cell_type": "code",
   "execution_count": null,
   "metadata": {},
   "outputs": [],
   "source": [
    "543 (30, 0)\n",
    "1571 (108, 0)\n",
    "6875 (38, 0)\n",
    "11710 (40, 0)\n",
    "15150"
   ]
  },
  {
   "cell_type": "code",
   "execution_count": null,
   "metadata": {},
   "outputs": [],
   "source": []
  },
  {
   "cell_type": "code",
   "execution_count": 330,
   "metadata": {},
   "outputs": [],
   "source": [
    "\n",
    "# Categorising into classes \n",
    "\n",
    "crop_imgs_lab = np_utils.to_categorical(np.asarray(crop_imgs_label)-1)"
   ]
  },
  {
   "cell_type": "code",
   "execution_count": 331,
   "metadata": {},
   "outputs": [
    {
     "name": "stdout",
     "output_type": "stream",
     "text": [
      "[ 1  2  3  4  5  6  7  8  9 10]\n",
      "(18367, 10)\n"
     ]
    }
   ],
   "source": [
    "print(np.unique(crop_imgs_label))\n",
    "print(crop_imgs_lab.shape)"
   ]
  },
  {
   "cell_type": "code",
   "execution_count": 332,
   "metadata": {},
   "outputs": [],
   "source": [
    "# Training model\n",
    "\n",
    "\n",
    "model = Sequential()\n",
    "model.add(Convolution2D(filters = 6,kernel_size =(2,2),strides = (2,2),input_shape=(36, 36,1)))\n",
    "model.add(Activation('relu'))\n",
    "model.add(MaxPooling2D(pool_size=(2,2)))\n",
    "\n",
    "model.add(Convolution2D(filters = 6 ,kernel_size =(2,2)))\n",
    "model.add(Activation('relu'))\n",
    "model.add(MaxPooling2D(pool_size=(2,2)))\n",
    "\n",
    "model.add(Convolution2D(filters = 12, kernel_size =(2, 2)))\n",
    "model.add(Activation('relu'))\n",
    "model.add(MaxPooling2D(pool_size=(2, 2)))\n",
    "\n",
    "model.add(Flatten())\n",
    "\n",
    "model.add(Dense(36))\n",
    "model.add(Activation('relu'))\n",
    "model.add(Dropout(0.5))\n",
    "model.add(Dense(10))\n",
    "model.add(Activation('softmax'))"
   ]
  },
  {
   "cell_type": "code",
   "execution_count": 343,
   "metadata": {},
   "outputs": [
    {
     "name": "stdout",
     "output_type": "stream",
     "text": [
      "Train on 16530 samples, validate on 1837 samples\n",
      "Epoch 1/50\n",
      "16530/16530 [==============================] - ETA: 27:24 - loss: 1.4976 - acc: 0.49 - ETA: 8:56 - loss: 1.5222 - acc: 0.4750 - ETA: 6:38 - loss: 1.5177 - acc: 0.481 - ETA: 4:19 - loss: 1.4676 - acc: 0.493 - ETA: 3:10 - loss: 1.4708 - acc: 0.505 - ETA: 2:28 - loss: 1.4602 - acc: 0.510 - ETA: 2:00 - loss: 1.4614 - acc: 0.509 - ETA: 1:50 - loss: 1.4678 - acc: 0.505 - ETA: 1:33 - loss: 1.4518 - acc: 0.506 - ETA: 1:19 - loss: 1.4576 - acc: 0.504 - ETA: 1:09 - loss: 1.4476 - acc: 0.509 - ETA: 1:01 - loss: 1.4368 - acc: 0.512 - ETA: 54s - loss: 1.4377 - acc: 0.511 - ETA: 51s - loss: 1.4365 - acc: 0.51 - ETA: 45s - loss: 1.4449 - acc: 0.51 - ETA: 41s - loss: 1.4384 - acc: 0.51 - ETA: 37s - loss: 1.4249 - acc: 0.51 - ETA: 33s - loss: 1.4200 - acc: 0.51 - ETA: 30s - loss: 1.4153 - acc: 0.52 - ETA: 27s - loss: 1.4216 - acc: 0.52 - ETA: 25s - loss: 1.4199 - acc: 0.52 - ETA: 22s - loss: 1.4211 - acc: 0.52 - ETA: 20s - loss: 1.4207 - acc: 0.51 - ETA: 18s - loss: 1.4222 - acc: 0.51 - ETA: 17s - loss: 1.4225 - acc: 0.51 - ETA: 15s - loss: 1.4169 - acc: 0.52 - ETA: 14s - loss: 1.4140 - acc: 0.52 - ETA: 13s - loss: 1.4097 - acc: 0.52 - ETA: 12s - loss: 1.4103 - acc: 0.52 - ETA: 11s - loss: 1.4167 - acc: 0.52 - ETA: 9s - loss: 1.4158 - acc: 0.5258 - ETA: 8s - loss: 1.4161 - acc: 0.525 - ETA: 7s - loss: 1.4194 - acc: 0.525 - ETA: 6s - loss: 1.4223 - acc: 0.524 - ETA: 6s - loss: 1.4234 - acc: 0.523 - ETA: 5s - loss: 1.4236 - acc: 0.524 - ETA: 4s - loss: 1.4245 - acc: 0.523 - ETA: 3s - loss: 1.4258 - acc: 0.522 - ETA: 2s - loss: 1.4255 - acc: 0.522 - ETA: 2s - loss: 1.4253 - acc: 0.522 - ETA: 1s - loss: 1.4247 - acc: 0.522 - ETA: 1s - loss: 1.4241 - acc: 0.521 - ETA: 0s - loss: 1.4228 - acc: 0.521 - 28s 2ms/step - loss: 1.4210 - acc: 0.5219 - val_loss: 1.3345 - val_acc: 0.5629\n",
      "Epoch 2/50\n",
      "16530/16530 [==============================] - ETA: 2s - loss: 1.4148 - acc: 0.575 - ETA: 1s - loss: 1.3886 - acc: 0.532 - ETA: 1s - loss: 1.3780 - acc: 0.537 - ETA: 2s - loss: 1.3902 - acc: 0.526 - ETA: 1s - loss: 1.3670 - acc: 0.532 - ETA: 1s - loss: 1.3753 - acc: 0.536 - ETA: 1s - loss: 1.3769 - acc: 0.534 - ETA: 1s - loss: 1.3838 - acc: 0.532 - ETA: 1s - loss: 1.3847 - acc: 0.534 - ETA: 1s - loss: 1.3809 - acc: 0.534 - ETA: 1s - loss: 1.3783 - acc: 0.536 - ETA: 1s - loss: 1.3810 - acc: 0.539 - ETA: 1s - loss: 1.3867 - acc: 0.535 - ETA: 1s - loss: 1.3974 - acc: 0.533 - ETA: 1s - loss: 1.4025 - acc: 0.529 - ETA: 1s - loss: 1.4088 - acc: 0.528 - ETA: 1s - loss: 1.4185 - acc: 0.524 - ETA: 1s - loss: 1.4149 - acc: 0.525 - ETA: 1s - loss: 1.4122 - acc: 0.527 - ETA: 1s - loss: 1.4096 - acc: 0.527 - ETA: 1s - loss: 1.4143 - acc: 0.526 - ETA: 1s - loss: 1.4075 - acc: 0.528 - ETA: 1s - loss: 1.4073 - acc: 0.528 - ETA: 1s - loss: 1.4030 - acc: 0.529 - ETA: 0s - loss: 1.4039 - acc: 0.529 - ETA: 0s - loss: 1.4020 - acc: 0.530 - ETA: 0s - loss: 1.4031 - acc: 0.529 - ETA: 0s - loss: 1.4079 - acc: 0.528 - ETA: 0s - loss: 1.4086 - acc: 0.528 - ETA: 0s - loss: 1.4114 - acc: 0.528 - ETA: 0s - loss: 1.4133 - acc: 0.527 - ETA: 0s - loss: 1.4139 - acc: 0.526 - ETA: 0s - loss: 1.4174 - acc: 0.525 - ETA: 0s - loss: 1.4170 - acc: 0.525 - ETA: 0s - loss: 1.4167 - acc: 0.524 - ETA: 0s - loss: 1.4184 - acc: 0.525 - ETA: 0s - loss: 1.4182 - acc: 0.525 - ETA: 0s - loss: 1.4158 - acc: 0.526 - 2s 148us/step - loss: 1.4165 - acc: 0.5263 - val_loss: 1.3344 - val_acc: 0.5661\n",
      "Epoch 3/50\n",
      "16530/16530 [==============================] - ETA: 4s - loss: 1.4356 - acc: 0.550 - ETA: 2s - loss: 1.4284 - acc: 0.540 - ETA: 2s - loss: 1.3932 - acc: 0.548 - ETA: 1s - loss: 1.3923 - acc: 0.550 - ETA: 2s - loss: 1.3859 - acc: 0.550 - ETA: 1s - loss: 1.3936 - acc: 0.544 - ETA: 1s - loss: 1.3826 - acc: 0.545 - ETA: 1s - loss: 1.3864 - acc: 0.547 - ETA: 1s - loss: 1.3848 - acc: 0.545 - ETA: 1s - loss: 1.3824 - acc: 0.543 - ETA: 1s - loss: 1.3962 - acc: 0.538 - ETA: 1s - loss: 1.3987 - acc: 0.537 - ETA: 1s - loss: 1.4051 - acc: 0.535 - ETA: 1s - loss: 1.4107 - acc: 0.532 - ETA: 1s - loss: 1.4143 - acc: 0.529 - ETA: 1s - loss: 1.4136 - acc: 0.530 - ETA: 1s - loss: 1.4116 - acc: 0.531 - ETA: 1s - loss: 1.4172 - acc: 0.529 - ETA: 1s - loss: 1.4144 - acc: 0.532 - ETA: 1s - loss: 1.4159 - acc: 0.532 - ETA: 1s - loss: 1.4202 - acc: 0.531 - ETA: 0s - loss: 1.4188 - acc: 0.529 - ETA: 0s - loss: 1.4199 - acc: 0.528 - ETA: 0s - loss: 1.4220 - acc: 0.529 - ETA: 0s - loss: 1.4213 - acc: 0.531 - ETA: 0s - loss: 1.4188 - acc: 0.531 - ETA: 0s - loss: 1.4219 - acc: 0.531 - ETA: 0s - loss: 1.4197 - acc: 0.532 - ETA: 0s - loss: 1.4212 - acc: 0.531 - ETA: 0s - loss: 1.4253 - acc: 0.529 - ETA: 0s - loss: 1.4271 - acc: 0.529 - ETA: 0s - loss: 1.4281 - acc: 0.529 - ETA: 0s - loss: 1.4251 - acc: 0.530 - ETA: 0s - loss: 1.4277 - acc: 0.529 - ETA: 0s - loss: 1.4259 - acc: 0.530 - 2s 145us/step - loss: 1.4273 - acc: 0.5296 - val_loss: 1.3210 - val_acc: 0.5596\n",
      "Epoch 4/50\n",
      "16530/16530 [==============================] - ETA: 2s - loss: 1.3824 - acc: 0.540 - ETA: 1s - loss: 1.3542 - acc: 0.540 - ETA: 1s - loss: 1.3884 - acc: 0.535 - ETA: 1s - loss: 1.3755 - acc: 0.542 - ETA: 2s - loss: 1.3998 - acc: 0.533 - ETA: 1s - loss: 1.4088 - acc: 0.530 - ETA: 1s - loss: 1.4190 - acc: 0.527 - ETA: 1s - loss: 1.4105 - acc: 0.530 - ETA: 1s - loss: 1.4076 - acc: 0.534 - ETA: 1s - loss: 1.4137 - acc: 0.531 - ETA: 1s - loss: 1.4164 - acc: 0.528 - ETA: 1s - loss: 1.4117 - acc: 0.531 - ETA: 1s - loss: 1.4095 - acc: 0.531 - ETA: 1s - loss: 1.4102 - acc: 0.532 - ETA: 1s - loss: 1.4089 - acc: 0.532 - ETA: 1s - loss: 1.4113 - acc: 0.531 - ETA: 1s - loss: 1.4113 - acc: 0.531 - ETA: 1s - loss: 1.4143 - acc: 0.530 - ETA: 0s - loss: 1.4121 - acc: 0.531 - ETA: 0s - loss: 1.4141 - acc: 0.531 - ETA: 0s - loss: 1.4108 - acc: 0.531 - ETA: 0s - loss: 1.4098 - acc: 0.532 - ETA: 0s - loss: 1.4088 - acc: 0.534 - ETA: 0s - loss: 1.4104 - acc: 0.534 - ETA: 0s - loss: 1.4105 - acc: 0.533 - ETA: 0s - loss: 1.4060 - acc: 0.534 - ETA: 0s - loss: 1.4079 - acc: 0.533 - ETA: 0s - loss: 1.4057 - acc: 0.534 - ETA: 0s - loss: 1.4092 - acc: 0.533 - ETA: 0s - loss: 1.4113 - acc: 0.532 - ETA: 0s - loss: 1.4123 - acc: 0.532 - ETA: 0s - loss: 1.4127 - acc: 0.532 - ETA: 0s - loss: 1.4138 - acc: 0.532 - ETA: 0s - loss: 1.4164 - acc: 0.531 - ETA: 0s - loss: 1.4192 - acc: 0.530 - 2s 140us/step - loss: 1.4175 - acc: 0.5314 - val_loss: 1.3596 - val_acc: 0.5509\n",
      "Epoch 5/50\n",
      "16530/16530 [==============================] - ETA: 2s - loss: 1.4785 - acc: 0.480 - ETA: 2s - loss: 1.4657 - acc: 0.510 - ETA: 2s - loss: 1.4479 - acc: 0.528 - ETA: 1s - loss: 1.4351 - acc: 0.524 - ETA: 1s - loss: 1.4222 - acc: 0.531 - ETA: 1s - loss: 1.4143 - acc: 0.535 - ETA: 1s - loss: 1.4181 - acc: 0.528 - ETA: 1s - loss: 1.4166 - acc: 0.529 - ETA: 1s - loss: 1.4128 - acc: 0.529 - ETA: 1s - loss: 1.4130 - acc: 0.528 - ETA: 1s - loss: 1.4046 - acc: 0.530 - ETA: 1s - loss: 1.4081 - acc: 0.530 - ETA: 1s - loss: 1.4034 - acc: 0.531 - ETA: 1s - loss: 1.4108 - acc: 0.529 - ETA: 1s - loss: 1.4035 - acc: 0.532 - ETA: 1s - loss: 1.3932 - acc: 0.535 - ETA: 1s - loss: 1.3938 - acc: 0.536 - ETA: 1s - loss: 1.3954 - acc: 0.536 - ETA: 1s - loss: 1.3913 - acc: 0.537 - ETA: 1s - loss: 1.3906 - acc: 0.537 - ETA: 1s - loss: 1.3908 - acc: 0.539 - ETA: 1s - loss: 1.3930 - acc: 0.538 - ETA: 1s - loss: 1.3961 - acc: 0.536 - ETA: 1s - loss: 1.3935 - acc: 0.536 - ETA: 0s - loss: 1.3975 - acc: 0.534 - ETA: 0s - loss: 1.3953 - acc: 0.534 - ETA: 0s - loss: 1.3956 - acc: 0.534 - ETA: 0s - loss: 1.3961 - acc: 0.533 - ETA: 0s - loss: 1.3967 - acc: 0.533 - ETA: 0s - loss: 1.3994 - acc: 0.531 - ETA: 0s - loss: 1.4004 - acc: 0.531 - ETA: 0s - loss: 1.4013 - acc: 0.530 - ETA: 0s - loss: 1.4032 - acc: 0.530 - ETA: 0s - loss: 1.4080 - acc: 0.528 - ETA: 0s - loss: 1.4103 - acc: 0.528 - ETA: 0s - loss: 1.4113 - acc: 0.526 - ETA: 0s - loss: 1.4130 - acc: 0.526 - ETA: 0s - loss: 1.4155 - acc: 0.526 - ETA: 0s - loss: 1.4178 - acc: 0.525 - ETA: 0s - loss: 1.4178 - acc: 0.526 - 3s 152us/step - loss: 1.4169 - acc: 0.5266 - val_loss: 1.3360 - val_acc: 0.5640\n",
      "Epoch 6/50\n",
      "16530/16530 [==============================] - ETA: 2s - loss: 1.5641 - acc: 0.500 - ETA: 2s - loss: 1.5431 - acc: 0.490 - ETA: 2s - loss: 1.4673 - acc: 0.512 - ETA: 2s - loss: 1.4886 - acc: 0.507 - ETA: 2s - loss: 1.4837 - acc: 0.507 - ETA: 2s - loss: 1.4523 - acc: 0.517 - ETA: 1s - loss: 1.4296 - acc: 0.523 - ETA: 1s - loss: 1.4301 - acc: 0.521 - ETA: 1s - loss: 1.4077 - acc: 0.532 - ETA: 1s - loss: 1.4046 - acc: 0.532 - ETA: 1s - loss: 1.4079 - acc: 0.531 - ETA: 1s - loss: 1.4094 - acc: 0.531 - ETA: 1s - loss: 1.4086 - acc: 0.531 - ETA: 1s - loss: 1.4070 - acc: 0.534 - ETA: 1s - loss: 1.4098 - acc: 0.531 - ETA: 1s - loss: 1.4111 - acc: 0.529 - ETA: 1s - loss: 1.4138 - acc: 0.527 - ETA: 1s - loss: 1.4125 - acc: 0.526 - ETA: 1s - loss: 1.4100 - acc: 0.525 - ETA: 1s - loss: 1.4064 - acc: 0.528 - ETA: 1s - loss: 1.4087 - acc: 0.526 - ETA: 1s - loss: 1.4043 - acc: 0.528 - ETA: 1s - loss: 1.3994 - acc: 0.530 - ETA: 1s - loss: 1.4009 - acc: 0.529 - ETA: 1s - loss: 1.3998 - acc: 0.529 - ETA: 0s - loss: 1.4003 - acc: 0.529 - ETA: 0s - loss: 1.3982 - acc: 0.531 - ETA: 0s - loss: 1.3963 - acc: 0.530 - ETA: 0s - loss: 1.4000 - acc: 0.529 - ETA: 0s - loss: 1.4010 - acc: 0.529 - ETA: 0s - loss: 1.4033 - acc: 0.529 - ETA: 0s - loss: 1.4007 - acc: 0.530 - ETA: 0s - loss: 1.4017 - acc: 0.529 - ETA: 0s - loss: 1.4016 - acc: 0.529 - ETA: 0s - loss: 1.4036 - acc: 0.528 - ETA: 0s - loss: 1.4025 - acc: 0.529 - ETA: 0s - loss: 1.4012 - acc: 0.529 - ETA: 0s - loss: 1.4003 - acc: 0.530 - ETA: 0s - loss: 1.4042 - acc: 0.528 - ETA: 0s - loss: 1.4052 - acc: 0.526 - ETA: 0s - loss: 1.4046 - acc: 0.527 - ETA: 0s - loss: 1.4055 - acc: 0.527 - 3s 153us/step - loss: 1.4043 - acc: 0.5273 - val_loss: 1.3411 - val_acc: 0.5536\n",
      "Epoch 7/50\n",
      "16530/16530 [==============================] - ETA: 2s - loss: 1.6600 - acc: 0.470 - ETA: 2s - loss: 1.4574 - acc: 0.535 - ETA: 2s - loss: 1.4324 - acc: 0.530 - ETA: 1s - loss: 1.4315 - acc: 0.525 - ETA: 1s - loss: 1.4309 - acc: 0.524 - ETA: 1s - loss: 1.4308 - acc: 0.522 - ETA: 1s - loss: 1.4250 - acc: 0.525 - ETA: 1s - loss: 1.4292 - acc: 0.522 - ETA: 1s - loss: 1.4347 - acc: 0.520 - ETA: 1s - loss: 1.4365 - acc: 0.521 - ETA: 1s - loss: 1.4352 - acc: 0.521 - ETA: 1s - loss: 1.4427 - acc: 0.518 - ETA: 1s - loss: 1.4395 - acc: 0.518 - ETA: 1s - loss: 1.4412 - acc: 0.518 - ETA: 1s - loss: 1.4407 - acc: 0.520 - ETA: 1s - loss: 1.4421 - acc: 0.519 - ETA: 1s - loss: 1.4363 - acc: 0.520 - ETA: 1s - loss: 1.4368 - acc: 0.520 - ETA: 0s - loss: 1.4406 - acc: 0.517 - ETA: 0s - loss: 1.4395 - acc: 0.519 - ETA: 0s - loss: 1.4380 - acc: 0.521 - ETA: 0s - loss: 1.4368 - acc: 0.523 - ETA: 0s - loss: 1.4344 - acc: 0.522 - ETA: 0s - loss: 1.4289 - acc: 0.524 - ETA: 0s - loss: 1.4265 - acc: 0.525 - ETA: 0s - loss: 1.4233 - acc: 0.526 - ETA: 0s - loss: 1.4191 - acc: 0.527 - ETA: 0s - loss: 1.4162 - acc: 0.529 - ETA: 0s - loss: 1.4142 - acc: 0.529 - ETA: 0s - loss: 1.4135 - acc: 0.530 - ETA: 0s - loss: 1.4136 - acc: 0.530 - ETA: 0s - loss: 1.4163 - acc: 0.529 - ETA: 0s - loss: 1.4181 - acc: 0.528 - 2s 136us/step - loss: 1.4175 - acc: 0.5290 - val_loss: 1.4128 - val_acc: 0.5357\n",
      "Epoch 8/50\n",
      "16530/16530 [==============================] - ETA: 2s - loss: 1.4802 - acc: 0.535 - ETA: 1s - loss: 1.4151 - acc: 0.542 - ETA: 1s - loss: 1.4040 - acc: 0.543 - ETA: 1s - loss: 1.3820 - acc: 0.550 - ETA: 1s - loss: 1.4071 - acc: 0.543 - ETA: 1s - loss: 1.4034 - acc: 0.543 - ETA: 1s - loss: 1.4028 - acc: 0.545 - ETA: 1s - loss: 1.3941 - acc: 0.544 - ETA: 1s - loss: 1.3973 - acc: 0.541 - ETA: 1s - loss: 1.4035 - acc: 0.535 - ETA: 1s - loss: 1.4091 - acc: 0.533 - ETA: 1s - loss: 1.4057 - acc: 0.533 - ETA: 1s - loss: 1.4076 - acc: 0.530 - ETA: 1s - loss: 1.4058 - acc: 0.531 - ETA: 1s - loss: 1.4048 - acc: 0.531 - ETA: 1s - loss: 1.4061 - acc: 0.531 - ETA: 1s - loss: 1.4010 - acc: 0.534 - ETA: 1s - loss: 1.4027 - acc: 0.534 - ETA: 0s - loss: 1.4030 - acc: 0.533 - ETA: 0s - loss: 1.4035 - acc: 0.534 - ETA: 0s - loss: 1.4007 - acc: 0.533 - ETA: 0s - loss: 1.4033 - acc: 0.532 - ETA: 0s - loss: 1.4026 - acc: 0.532 - ETA: 0s - loss: 1.4028 - acc: 0.532 - ETA: 0s - loss: 1.4023 - acc: 0.532 - ETA: 0s - loss: 1.4041 - acc: 0.531 - ETA: 0s - loss: 1.4031 - acc: 0.531 - ETA: 0s - loss: 1.4039 - acc: 0.530 - ETA: 0s - loss: 1.4041 - acc: 0.530 - ETA: 0s - loss: 1.4076 - acc: 0.530 - ETA: 0s - loss: 1.4069 - acc: 0.530 - ETA: 0s - loss: 1.4091 - acc: 0.531 - ETA: 0s - loss: 1.4100 - acc: 0.531 - ETA: 0s - loss: 1.4126 - acc: 0.531 - ETA: 0s - loss: 1.4110 - acc: 0.531 - 2s 139us/step - loss: 1.4121 - acc: 0.5310 - val_loss: 1.3513 - val_acc: 0.5591\n",
      "Epoch 9/50\n",
      "16530/16530 [==============================] - ETA: 2s - loss: 1.2710 - acc: 0.560 - ETA: 2s - loss: 1.3266 - acc: 0.543 - ETA: 2s - loss: 1.3586 - acc: 0.543 - ETA: 2s - loss: 1.4027 - acc: 0.537 - ETA: 1s - loss: 1.3865 - acc: 0.543 - ETA: 1s - loss: 1.4074 - acc: 0.539 - ETA: 1s - loss: 1.4164 - acc: 0.536 - ETA: 1s - loss: 1.4128 - acc: 0.531 - ETA: 1s - loss: 1.4124 - acc: 0.529 - ETA: 1s - loss: 1.4243 - acc: 0.530 - ETA: 1s - loss: 1.4254 - acc: 0.529 - ETA: 1s - loss: 1.4236 - acc: 0.530 - ETA: 1s - loss: 1.4153 - acc: 0.533 - ETA: 1s - loss: 1.4177 - acc: 0.531 - ETA: 1s - loss: 1.4118 - acc: 0.531 - ETA: 1s - loss: 1.4074 - acc: 0.532 - ETA: 1s - loss: 1.4023 - acc: 0.534 - ETA: 1s - loss: 1.4009 - acc: 0.534 - ETA: 1s - loss: 1.4054 - acc: 0.534 - ETA: 1s - loss: 1.4050 - acc: 0.534 - ETA: 0s - loss: 1.4073 - acc: 0.532 - ETA: 0s - loss: 1.4137 - acc: 0.530 - ETA: 0s - loss: 1.4144 - acc: 0.528 - ETA: 0s - loss: 1.4082 - acc: 0.529 - ETA: 0s - loss: 1.4105 - acc: 0.528 - ETA: 0s - loss: 1.4084 - acc: 0.530 - ETA: 0s - loss: 1.4068 - acc: 0.530 - ETA: 0s - loss: 1.4077 - acc: 0.529 - ETA: 0s - loss: 1.4093 - acc: 0.529 - ETA: 0s - loss: 1.4089 - acc: 0.530 - ETA: 0s - loss: 1.4127 - acc: 0.529 - ETA: 0s - loss: 1.4134 - acc: 0.529 - ETA: 0s - loss: 1.4135 - acc: 0.530 - ETA: 0s - loss: 1.4105 - acc: 0.531 - ETA: 0s - loss: 1.4118 - acc: 0.530 - ETA: 0s - loss: 1.4150 - acc: 0.530 - ETA: 0s - loss: 1.4149 - acc: 0.530 - 2s 140us/step - loss: 1.4145 - acc: 0.5309 - val_loss: 1.4151 - val_acc: 0.5367\n",
      "Epoch 10/50\n",
      "16530/16530 [==============================] - ETA: 2s - loss: 1.4144 - acc: 0.535 - ETA: 2s - loss: 1.3922 - acc: 0.538 - ETA: 2s - loss: 1.3650 - acc: 0.540 - ETA: 1s - loss: 1.3741 - acc: 0.535 - ETA: 2s - loss: 1.3915 - acc: 0.530 - ETA: 2s - loss: 1.3863 - acc: 0.532 - ETA: 1s - loss: 1.3901 - acc: 0.534 - ETA: 1s - loss: 1.3975 - acc: 0.533 - ETA: 1s - loss: 1.4019 - acc: 0.533 - ETA: 1s - loss: 1.4091 - acc: 0.532 - ETA: 1s - loss: 1.4071 - acc: 0.534 - ETA: 1s - loss: 1.4061 - acc: 0.532 - ETA: 1s - loss: 1.4104 - acc: 0.531 - ETA: 1s - loss: 1.4148 - acc: 0.528 - ETA: 1s - loss: 1.4203 - acc: 0.528 - ETA: 1s - loss: 1.4235 - acc: 0.526 - ETA: 1s - loss: 1.4194 - acc: 0.528 - ETA: 1s - loss: 1.4153 - acc: 0.528 - ETA: 0s - loss: 1.4140 - acc: 0.527 - ETA: 0s - loss: 1.4135 - acc: 0.527 - ETA: 0s - loss: 1.4150 - acc: 0.526 - ETA: 0s - loss: 1.4143 - acc: 0.526 - ETA: 0s - loss: 1.4151 - acc: 0.526 - ETA: 0s - loss: 1.4127 - acc: 0.527 - ETA: 0s - loss: 1.4096 - acc: 0.527 - ETA: 0s - loss: 1.4093 - acc: 0.528 - ETA: 0s - loss: 1.4083 - acc: 0.527 - ETA: 0s - loss: 1.4099 - acc: 0.527 - ETA: 0s - loss: 1.4091 - acc: 0.528 - ETA: 0s - loss: 1.4126 - acc: 0.526 - ETA: 0s - loss: 1.4099 - acc: 0.527 - ETA: 0s - loss: 1.4114 - acc: 0.527 - ETA: 0s - loss: 1.4125 - acc: 0.526 - ETA: 0s - loss: 1.4124 - acc: 0.527 - 2s 139us/step - loss: 1.4130 - acc: 0.5270 - val_loss: 1.3305 - val_acc: 0.5678\n",
      "Epoch 11/50\n"
     ]
    },
    {
     "name": "stdout",
     "output_type": "stream",
     "text": [
      "16530/16530 [==============================] - ETA: 1s - loss: 1.6692 - acc: 0.485 - ETA: 2s - loss: 1.4962 - acc: 0.505 - ETA: 2s - loss: 1.4602 - acc: 0.504 - ETA: 1s - loss: 1.4495 - acc: 0.511 - ETA: 1s - loss: 1.4255 - acc: 0.523 - ETA: 1s - loss: 1.4156 - acc: 0.524 - ETA: 2s - loss: 1.4192 - acc: 0.525 - ETA: 1s - loss: 1.4129 - acc: 0.526 - ETA: 1s - loss: 1.4081 - acc: 0.529 - ETA: 1s - loss: 1.4019 - acc: 0.533 - ETA: 1s - loss: 1.4065 - acc: 0.533 - ETA: 1s - loss: 1.4174 - acc: 0.530 - ETA: 1s - loss: 1.4119 - acc: 0.530 - ETA: 1s - loss: 1.4060 - acc: 0.532 - ETA: 1s - loss: 1.4019 - acc: 0.533 - ETA: 1s - loss: 1.4002 - acc: 0.534 - ETA: 1s - loss: 1.4001 - acc: 0.534 - ETA: 1s - loss: 1.4020 - acc: 0.534 - ETA: 1s - loss: 1.4034 - acc: 0.532 - ETA: 1s - loss: 1.4165 - acc: 0.527 - ETA: 0s - loss: 1.4156 - acc: 0.527 - ETA: 0s - loss: 1.4185 - acc: 0.525 - ETA: 0s - loss: 1.4161 - acc: 0.525 - ETA: 0s - loss: 1.4200 - acc: 0.525 - ETA: 0s - loss: 1.4124 - acc: 0.527 - ETA: 0s - loss: 1.4146 - acc: 0.528 - ETA: 0s - loss: 1.4168 - acc: 0.527 - ETA: 0s - loss: 1.4120 - acc: 0.528 - ETA: 0s - loss: 1.4082 - acc: 0.528 - ETA: 0s - loss: 1.4079 - acc: 0.529 - ETA: 0s - loss: 1.4085 - acc: 0.529 - ETA: 0s - loss: 1.4102 - acc: 0.528 - ETA: 0s - loss: 1.4119 - acc: 0.528 - ETA: 0s - loss: 1.4096 - acc: 0.529 - ETA: 0s - loss: 1.4096 - acc: 0.529 - ETA: 0s - loss: 1.4085 - acc: 0.529 - 2s 141us/step - loss: 1.4082 - acc: 0.5292 - val_loss: 1.3117 - val_acc: 0.5667\n",
      "Epoch 12/50\n",
      "16530/16530 [==============================] - ETA: 2s - loss: 1.3697 - acc: 0.530 - ETA: 2s - loss: 1.4342 - acc: 0.513 - ETA: 2s - loss: 1.3866 - acc: 0.534 - ETA: 2s - loss: 1.3849 - acc: 0.531 - ETA: 1s - loss: 1.3824 - acc: 0.531 - ETA: 1s - loss: 1.3852 - acc: 0.540 - ETA: 1s - loss: 1.3901 - acc: 0.537 - ETA: 1s - loss: 1.3866 - acc: 0.540 - ETA: 1s - loss: 1.3942 - acc: 0.537 - ETA: 1s - loss: 1.3899 - acc: 0.541 - ETA: 1s - loss: 1.3919 - acc: 0.541 - ETA: 1s - loss: 1.3892 - acc: 0.543 - ETA: 1s - loss: 1.3870 - acc: 0.541 - ETA: 1s - loss: 1.3850 - acc: 0.542 - ETA: 1s - loss: 1.3915 - acc: 0.538 - ETA: 1s - loss: 1.3879 - acc: 0.540 - ETA: 1s - loss: 1.3893 - acc: 0.540 - ETA: 1s - loss: 1.3886 - acc: 0.540 - ETA: 1s - loss: 1.3919 - acc: 0.537 - ETA: 1s - loss: 1.3984 - acc: 0.535 - ETA: 1s - loss: 1.3994 - acc: 0.535 - ETA: 1s - loss: 1.3992 - acc: 0.535 - ETA: 1s - loss: 1.4020 - acc: 0.533 - ETA: 1s - loss: 1.4038 - acc: 0.534 - ETA: 0s - loss: 1.4032 - acc: 0.534 - ETA: 0s - loss: 1.4075 - acc: 0.533 - ETA: 0s - loss: 1.4071 - acc: 0.533 - ETA: 0s - loss: 1.4062 - acc: 0.533 - ETA: 0s - loss: 1.4066 - acc: 0.534 - ETA: 0s - loss: 1.4076 - acc: 0.534 - ETA: 0s - loss: 1.4067 - acc: 0.534 - ETA: 0s - loss: 1.4076 - acc: 0.533 - ETA: 0s - loss: 1.4093 - acc: 0.532 - ETA: 0s - loss: 1.4083 - acc: 0.534 - ETA: 0s - loss: 1.4072 - acc: 0.534 - ETA: 0s - loss: 1.4067 - acc: 0.534 - ETA: 0s - loss: 1.4050 - acc: 0.534 - ETA: 0s - loss: 1.4044 - acc: 0.535 - ETA: 0s - loss: 1.4022 - acc: 0.535 - ETA: 0s - loss: 1.4028 - acc: 0.535 - 2s 150us/step - loss: 1.4033 - acc: 0.5359 - val_loss: 1.3200 - val_acc: 0.5683\n",
      "Epoch 13/50\n",
      "16530/16530 [==============================] - ETA: 2s - loss: 1.3019 - acc: 0.515 - ETA: 2s - loss: 1.3269 - acc: 0.540 - ETA: 2s - loss: 1.3677 - acc: 0.543 - ETA: 2s - loss: 1.3816 - acc: 0.536 - ETA: 2s - loss: 1.3781 - acc: 0.538 - ETA: 2s - loss: 1.3702 - acc: 0.543 - ETA: 2s - loss: 1.3718 - acc: 0.543 - ETA: 1s - loss: 1.3698 - acc: 0.539 - ETA: 1s - loss: 1.3704 - acc: 0.541 - ETA: 1s - loss: 1.3775 - acc: 0.537 - ETA: 1s - loss: 1.3816 - acc: 0.538 - ETA: 1s - loss: 1.3906 - acc: 0.533 - ETA: 1s - loss: 1.3952 - acc: 0.532 - ETA: 1s - loss: 1.3990 - acc: 0.532 - ETA: 1s - loss: 1.4016 - acc: 0.531 - ETA: 1s - loss: 1.4044 - acc: 0.531 - ETA: 1s - loss: 1.4092 - acc: 0.530 - ETA: 1s - loss: 1.4078 - acc: 0.530 - ETA: 1s - loss: 1.4112 - acc: 0.529 - ETA: 1s - loss: 1.4078 - acc: 0.530 - ETA: 1s - loss: 1.4038 - acc: 0.532 - ETA: 1s - loss: 1.4051 - acc: 0.531 - ETA: 1s - loss: 1.4031 - acc: 0.531 - ETA: 1s - loss: 1.4053 - acc: 0.530 - ETA: 0s - loss: 1.4049 - acc: 0.529 - ETA: 0s - loss: 1.4048 - acc: 0.528 - ETA: 0s - loss: 1.4038 - acc: 0.528 - ETA: 0s - loss: 1.4005 - acc: 0.529 - ETA: 0s - loss: 1.4016 - acc: 0.528 - ETA: 0s - loss: 1.4032 - acc: 0.527 - ETA: 0s - loss: 1.4074 - acc: 0.527 - ETA: 0s - loss: 1.4122 - acc: 0.526 - ETA: 0s - loss: 1.4145 - acc: 0.524 - ETA: 0s - loss: 1.4145 - acc: 0.525 - ETA: 0s - loss: 1.4149 - acc: 0.524 - ETA: 0s - loss: 1.4131 - acc: 0.525 - ETA: 0s - loss: 1.4136 - acc: 0.524 - ETA: 0s - loss: 1.4162 - acc: 0.523 - ETA: 0s - loss: 1.4183 - acc: 0.523 - ETA: 0s - loss: 1.4173 - acc: 0.523 - 2s 146us/step - loss: 1.4171 - acc: 0.5234 - val_loss: 1.3219 - val_acc: 0.5574\n",
      "Epoch 14/50\n",
      "16530/16530 [==============================] - ETA: 1s - loss: 1.5121 - acc: 0.525 - ETA: 1s - loss: 1.4582 - acc: 0.532 - ETA: 1s - loss: 1.4252 - acc: 0.537 - ETA: 1s - loss: 1.4270 - acc: 0.527 - ETA: 1s - loss: 1.3994 - acc: 0.540 - ETA: 1s - loss: 1.4068 - acc: 0.537 - ETA: 1s - loss: 1.4133 - acc: 0.537 - ETA: 1s - loss: 1.4193 - acc: 0.536 - ETA: 1s - loss: 1.4214 - acc: 0.534 - ETA: 1s - loss: 1.4175 - acc: 0.536 - ETA: 1s - loss: 1.4281 - acc: 0.533 - ETA: 1s - loss: 1.4257 - acc: 0.532 - ETA: 1s - loss: 1.4253 - acc: 0.531 - ETA: 1s - loss: 1.4170 - acc: 0.531 - ETA: 1s - loss: 1.4161 - acc: 0.530 - ETA: 1s - loss: 1.4165 - acc: 0.530 - ETA: 1s - loss: 1.4194 - acc: 0.530 - ETA: 0s - loss: 1.4195 - acc: 0.527 - ETA: 0s - loss: 1.4223 - acc: 0.526 - ETA: 0s - loss: 1.4165 - acc: 0.528 - ETA: 0s - loss: 1.4172 - acc: 0.527 - ETA: 0s - loss: 1.4174 - acc: 0.526 - ETA: 0s - loss: 1.4203 - acc: 0.526 - ETA: 0s - loss: 1.4199 - acc: 0.525 - ETA: 0s - loss: 1.4204 - acc: 0.526 - ETA: 0s - loss: 1.4219 - acc: 0.525 - ETA: 0s - loss: 1.4210 - acc: 0.525 - ETA: 0s - loss: 1.4208 - acc: 0.525 - ETA: 0s - loss: 1.4178 - acc: 0.526 - ETA: 0s - loss: 1.4168 - acc: 0.526 - ETA: 0s - loss: 1.4184 - acc: 0.526 - 2s 131us/step - loss: 1.4155 - acc: 0.5270 - val_loss: 1.3586 - val_acc: 0.5536\n",
      "Epoch 15/50\n",
      "16530/16530 [==============================] - ETA: 2s - loss: 1.3858 - acc: 0.560 - ETA: 1s - loss: 1.4334 - acc: 0.536 - ETA: 1s - loss: 1.4243 - acc: 0.532 - ETA: 1s - loss: 1.4131 - acc: 0.537 - ETA: 1s - loss: 1.4228 - acc: 0.531 - ETA: 1s - loss: 1.4195 - acc: 0.535 - ETA: 1s - loss: 1.4194 - acc: 0.532 - ETA: 1s - loss: 1.4273 - acc: 0.527 - ETA: 1s - loss: 1.4240 - acc: 0.530 - ETA: 1s - loss: 1.4250 - acc: 0.529 - ETA: 1s - loss: 1.4133 - acc: 0.534 - ETA: 1s - loss: 1.4105 - acc: 0.535 - ETA: 1s - loss: 1.4117 - acc: 0.534 - ETA: 1s - loss: 1.4047 - acc: 0.535 - ETA: 1s - loss: 1.4054 - acc: 0.533 - ETA: 1s - loss: 1.4092 - acc: 0.530 - ETA: 1s - loss: 1.4105 - acc: 0.528 - ETA: 1s - loss: 1.4111 - acc: 0.526 - ETA: 0s - loss: 1.4078 - acc: 0.528 - ETA: 0s - loss: 1.4087 - acc: 0.529 - ETA: 0s - loss: 1.4083 - acc: 0.530 - ETA: 0s - loss: 1.4048 - acc: 0.530 - ETA: 0s - loss: 1.4047 - acc: 0.531 - ETA: 0s - loss: 1.4063 - acc: 0.530 - ETA: 0s - loss: 1.4060 - acc: 0.530 - ETA: 0s - loss: 1.4054 - acc: 0.530 - ETA: 0s - loss: 1.4064 - acc: 0.529 - ETA: 0s - loss: 1.4084 - acc: 0.529 - ETA: 0s - loss: 1.4085 - acc: 0.529 - ETA: 0s - loss: 1.4075 - acc: 0.529 - ETA: 0s - loss: 1.4076 - acc: 0.529 - ETA: 0s - loss: 1.4070 - acc: 0.529 - ETA: 0s - loss: 1.4057 - acc: 0.530 - ETA: 0s - loss: 1.4069 - acc: 0.529 - 2s 133us/step - loss: 1.4072 - acc: 0.5296 - val_loss: 1.3231 - val_acc: 0.5651\n",
      "Epoch 16/50\n",
      "16530/16530 [==============================] - ETA: 2s - loss: 1.2855 - acc: 0.580 - ETA: 1s - loss: 1.3337 - acc: 0.562 - ETA: 1s - loss: 1.3743 - acc: 0.533 - ETA: 1s - loss: 1.3802 - acc: 0.531 - ETA: 1s - loss: 1.3653 - acc: 0.542 - ETA: 1s - loss: 1.3618 - acc: 0.542 - ETA: 1s - loss: 1.3612 - acc: 0.542 - ETA: 1s - loss: 1.3828 - acc: 0.540 - ETA: 1s - loss: 1.3765 - acc: 0.542 - ETA: 1s - loss: 1.3792 - acc: 0.541 - ETA: 1s - loss: 1.3781 - acc: 0.540 - ETA: 1s - loss: 1.3775 - acc: 0.543 - ETA: 1s - loss: 1.3755 - acc: 0.544 - ETA: 1s - loss: 1.3802 - acc: 0.543 - ETA: 1s - loss: 1.3850 - acc: 0.541 - ETA: 1s - loss: 1.3932 - acc: 0.538 - ETA: 1s - loss: 1.4010 - acc: 0.535 - ETA: 1s - loss: 1.4033 - acc: 0.534 - ETA: 0s - loss: 1.4013 - acc: 0.533 - ETA: 0s - loss: 1.4058 - acc: 0.531 - ETA: 0s - loss: 1.4024 - acc: 0.533 - ETA: 0s - loss: 1.3992 - acc: 0.533 - ETA: 0s - loss: 1.3993 - acc: 0.533 - ETA: 0s - loss: 1.4023 - acc: 0.531 - ETA: 0s - loss: 1.4080 - acc: 0.529 - ETA: 0s - loss: 1.4119 - acc: 0.528 - ETA: 0s - loss: 1.4111 - acc: 0.528 - ETA: 0s - loss: 1.4100 - acc: 0.528 - ETA: 0s - loss: 1.4092 - acc: 0.528 - ETA: 0s - loss: 1.4092 - acc: 0.526 - ETA: 0s - loss: 1.4071 - acc: 0.527 - ETA: 0s - loss: 1.4047 - acc: 0.528 - ETA: 0s - loss: 1.4022 - acc: 0.528 - ETA: 0s - loss: 1.4033 - acc: 0.528 - ETA: 0s - loss: 1.4045 - acc: 0.527 - 2s 135us/step - loss: 1.4052 - acc: 0.5275 - val_loss: 1.3496 - val_acc: 0.5509\n",
      "Epoch 17/50\n",
      "16530/16530 [==============================] - ETA: 2s - loss: 1.4119 - acc: 0.575 - ETA: 2s - loss: 1.4131 - acc: 0.568 - ETA: 2s - loss: 1.4494 - acc: 0.550 - ETA: 2s - loss: 1.4201 - acc: 0.549 - ETA: 2s - loss: 1.4253 - acc: 0.545 - ETA: 1s - loss: 1.4169 - acc: 0.550 - ETA: 1s - loss: 1.4268 - acc: 0.537 - ETA: 1s - loss: 1.4374 - acc: 0.531 - ETA: 1s - loss: 1.4323 - acc: 0.535 - ETA: 1s - loss: 1.4331 - acc: 0.533 - ETA: 1s - loss: 1.4111 - acc: 0.542 - ETA: 1s - loss: 1.4086 - acc: 0.541 - ETA: 1s - loss: 1.4067 - acc: 0.541 - ETA: 1s - loss: 1.4053 - acc: 0.538 - ETA: 1s - loss: 1.4074 - acc: 0.537 - ETA: 1s - loss: 1.4066 - acc: 0.537 - ETA: 1s - loss: 1.4079 - acc: 0.536 - ETA: 1s - loss: 1.4056 - acc: 0.535 - ETA: 1s - loss: 1.4033 - acc: 0.534 - ETA: 1s - loss: 1.4106 - acc: 0.535 - ETA: 1s - loss: 1.4081 - acc: 0.534 - ETA: 0s - loss: 1.4065 - acc: 0.534 - ETA: 0s - loss: 1.4028 - acc: 0.534 - ETA: 0s - loss: 1.4059 - acc: 0.533 - ETA: 0s - loss: 1.4090 - acc: 0.530 - ETA: 0s - loss: 1.4096 - acc: 0.531 - ETA: 0s - loss: 1.4069 - acc: 0.532 - ETA: 0s - loss: 1.4079 - acc: 0.531 - ETA: 0s - loss: 1.4082 - acc: 0.531 - ETA: 0s - loss: 1.4054 - acc: 0.532 - ETA: 0s - loss: 1.4079 - acc: 0.532 - ETA: 0s - loss: 1.4077 - acc: 0.531 - ETA: 0s - loss: 1.4061 - acc: 0.531 - ETA: 0s - loss: 1.4067 - acc: 0.530 - ETA: 0s - loss: 1.4064 - acc: 0.530 - ETA: 0s - loss: 1.4064 - acc: 0.530 - ETA: 0s - loss: 1.4091 - acc: 0.530 - 2s 139us/step - loss: 1.4092 - acc: 0.5310 - val_loss: 1.3280 - val_acc: 0.5678\n",
      "Epoch 18/50\n",
      "16530/16530 [==============================] - ETA: 2s - loss: 1.3151 - acc: 0.535 - ETA: 1s - loss: 1.3868 - acc: 0.525 - ETA: 1s - loss: 1.3800 - acc: 0.521 - ETA: 1s - loss: 1.3946 - acc: 0.518 - ETA: 1s - loss: 1.3775 - acc: 0.527 - ETA: 1s - loss: 1.3986 - acc: 0.526 - ETA: 1s - loss: 1.4173 - acc: 0.520 - ETA: 1s - loss: 1.4160 - acc: 0.524 - ETA: 1s - loss: 1.4179 - acc: 0.519 - ETA: 1s - loss: 1.4146 - acc: 0.522 - ETA: 1s - loss: 1.4137 - acc: 0.524 - ETA: 1s - loss: 1.4109 - acc: 0.526 - ETA: 1s - loss: 1.4105 - acc: 0.527 - ETA: 1s - loss: 1.4040 - acc: 0.529 - ETA: 1s - loss: 1.4055 - acc: 0.528 - ETA: 1s - loss: 1.4052 - acc: 0.530 - ETA: 1s - loss: 1.4049 - acc: 0.529 - ETA: 1s - loss: 1.4084 - acc: 0.527 - ETA: 0s - loss: 1.4070 - acc: 0.528 - ETA: 0s - loss: 1.4068 - acc: 0.527 - ETA: 0s - loss: 1.4110 - acc: 0.526 - ETA: 0s - loss: 1.4090 - acc: 0.528 - ETA: 0s - loss: 1.4098 - acc: 0.529 - ETA: 0s - loss: 1.4114 - acc: 0.528 - ETA: 0s - loss: 1.4121 - acc: 0.528 - ETA: 0s - loss: 1.4124 - acc: 0.527 - ETA: 0s - loss: 1.4095 - acc: 0.528 - ETA: 0s - loss: 1.4081 - acc: 0.528 - ETA: 0s - loss: 1.4100 - acc: 0.527 - ETA: 0s - loss: 1.4118 - acc: 0.526 - ETA: 0s - loss: 1.4101 - acc: 0.527 - ETA: 0s - loss: 1.4115 - acc: 0.527 - ETA: 0s - loss: 1.4119 - acc: 0.527 - ETA: 0s - loss: 1.4124 - acc: 0.527 - ETA: 0s - loss: 1.4102 - acc: 0.528 - ETA: 0s - loss: 1.4087 - acc: 0.528 - ETA: 0s - loss: 1.4089 - acc: 0.527 - ETA: 0s - loss: 1.4108 - acc: 0.526 - 2s 150us/step - loss: 1.4083 - acc: 0.5269 - val_loss: 1.3357 - val_acc: 0.5574\n",
      "Epoch 19/50\n",
      "16530/16530 [==============================] - ETA: 2s - loss: 1.4330 - acc: 0.545 - ETA: 2s - loss: 1.3666 - acc: 0.551 - ETA: 2s - loss: 1.3724 - acc: 0.544 - ETA: 2s - loss: 1.4088 - acc: 0.532 - ETA: 2s - loss: 1.4083 - acc: 0.527 - ETA: 2s - loss: 1.4234 - acc: 0.531 - ETA: 2s - loss: 1.4149 - acc: 0.528 - ETA: 2s - loss: 1.4217 - acc: 0.526 - ETA: 2s - loss: 1.4125 - acc: 0.528 - ETA: 2s - loss: 1.4087 - acc: 0.525 - ETA: 2s - loss: 1.4064 - acc: 0.526 - ETA: 1s - loss: 1.3987 - acc: 0.528 - ETA: 1s - loss: 1.3976 - acc: 0.527 - ETA: 1s - loss: 1.4048 - acc: 0.526 - ETA: 1s - loss: 1.3995 - acc: 0.527 - ETA: 1s - loss: 1.4028 - acc: 0.525 - ETA: 1s - loss: 1.4004 - acc: 0.527 - ETA: 1s - loss: 1.3935 - acc: 0.529 - ETA: 1s - loss: 1.3954 - acc: 0.528 - ETA: 1s - loss: 1.3968 - acc: 0.529 - ETA: 1s - loss: 1.3947 - acc: 0.530 - ETA: 1s - loss: 1.3943 - acc: 0.529 - ETA: 1s - loss: 1.3997 - acc: 0.527 - ETA: 1s - loss: 1.3969 - acc: 0.527 - ETA: 1s - loss: 1.4006 - acc: 0.525 - ETA: 1s - loss: 1.4026 - acc: 0.524 - ETA: 0s - loss: 1.4014 - acc: 0.525 - ETA: 0s - loss: 1.4010 - acc: 0.526 - ETA: 0s - loss: 1.4034 - acc: 0.526 - ETA: 0s - loss: 1.3993 - acc: 0.528 - ETA: 0s - loss: 1.3985 - acc: 0.528 - ETA: 0s - loss: 1.4013 - acc: 0.529 - ETA: 0s - loss: 1.3978 - acc: 0.530 - ETA: 0s - loss: 1.3989 - acc: 0.530 - ETA: 0s - loss: 1.3990 - acc: 0.530 - ETA: 0s - loss: 1.4001 - acc: 0.530 - ETA: 0s - loss: 1.4052 - acc: 0.529 - ETA: 0s - loss: 1.4077 - acc: 0.527 - ETA: 0s - loss: 1.4065 - acc: 0.528 - ETA: 0s - loss: 1.4037 - acc: 0.529 - ETA: 0s - loss: 1.4021 - acc: 0.530 - ETA: 0s - loss: 1.4016 - acc: 0.530 - 3s 170us/step - loss: 1.4031 - acc: 0.5298 - val_loss: 1.3324 - val_acc: 0.5602\n",
      "Epoch 20/50\n",
      "16530/16530 [==============================] - ETA: 2s - loss: 1.4424 - acc: 0.535 - ETA: 2s - loss: 1.3745 - acc: 0.526 - ETA: 2s - loss: 1.3827 - acc: 0.522 - ETA: 2s - loss: 1.4022 - acc: 0.519 - ETA: 2s - loss: 1.4170 - acc: 0.521 - ETA: 2s - loss: 1.4228 - acc: 0.522 - ETA: 2s - loss: 1.4406 - acc: 0.520 - ETA: 2s - loss: 1.4352 - acc: 0.526 - ETA: 2s - loss: 1.4249 - acc: 0.528 - ETA: 1s - loss: 1.4147 - acc: 0.528 - ETA: 1s - loss: 1.4172 - acc: 0.528 - ETA: 1s - loss: 1.4130 - acc: 0.530 - ETA: 1s - loss: 1.4123 - acc: 0.529 - ETA: 1s - loss: 1.4081 - acc: 0.531 - ETA: 1s - loss: 1.4097 - acc: 0.531 - ETA: 1s - loss: 1.4124 - acc: 0.529 - ETA: 1s - loss: 1.4152 - acc: 0.528 - ETA: 1s - loss: 1.4177 - acc: 0.526 - ETA: 1s - loss: 1.4141 - acc: 0.527 - ETA: 1s - loss: 1.4161 - acc: 0.525 - ETA: 1s - loss: 1.4168 - acc: 0.527 - ETA: 1s - loss: 1.4160 - acc: 0.528 - ETA: 1s - loss: 1.4144 - acc: 0.528 - ETA: 1s - loss: 1.4095 - acc: 0.530 - ETA: 1s - loss: 1.4068 - acc: 0.531 - ETA: 1s - loss: 1.4074 - acc: 0.531 - ETA: 0s - loss: 1.4047 - acc: 0.533 - ETA: 0s - loss: 1.4060 - acc: 0.532 - ETA: 0s - loss: 1.4042 - acc: 0.534 - ETA: 0s - loss: 1.4013 - acc: 0.534 - ETA: 0s - loss: 1.4027 - acc: 0.534 - ETA: 0s - loss: 1.3992 - acc: 0.534 - ETA: 0s - loss: 1.3988 - acc: 0.534 - ETA: 0s - loss: 1.3996 - acc: 0.533 - ETA: 0s - loss: 1.3976 - acc: 0.534 - ETA: 0s - loss: 1.3984 - acc: 0.534 - ETA: 0s - loss: 1.4003 - acc: 0.534 - ETA: 0s - loss: 1.3989 - acc: 0.534 - ETA: 0s - loss: 1.4016 - acc: 0.533 - 3s 153us/step - loss: 1.4028 - acc: 0.5327 - val_loss: 1.3150 - val_acc: 0.5705\n",
      "Epoch 21/50\n"
     ]
    },
    {
     "name": "stdout",
     "output_type": "stream",
     "text": [
      "16530/16530 [==============================] - ETA: 1s - loss: 1.4589 - acc: 0.495 - ETA: 1s - loss: 1.4180 - acc: 0.530 - ETA: 1s - loss: 1.4228 - acc: 0.524 - ETA: 1s - loss: 1.4081 - acc: 0.533 - ETA: 1s - loss: 1.4046 - acc: 0.529 - ETA: 1s - loss: 1.3914 - acc: 0.530 - ETA: 1s - loss: 1.3849 - acc: 0.531 - ETA: 1s - loss: 1.3860 - acc: 0.533 - ETA: 1s - loss: 1.3792 - acc: 0.534 - ETA: 1s - loss: 1.3837 - acc: 0.534 - ETA: 1s - loss: 1.3860 - acc: 0.532 - ETA: 1s - loss: 1.3930 - acc: 0.530 - ETA: 1s - loss: 1.3956 - acc: 0.531 - ETA: 1s - loss: 1.3938 - acc: 0.530 - ETA: 1s - loss: 1.3969 - acc: 0.529 - ETA: 1s - loss: 1.3998 - acc: 0.528 - ETA: 1s - loss: 1.4025 - acc: 0.528 - ETA: 1s - loss: 1.4021 - acc: 0.528 - ETA: 0s - loss: 1.4028 - acc: 0.528 - ETA: 0s - loss: 1.4028 - acc: 0.527 - ETA: 0s - loss: 1.4040 - acc: 0.528 - ETA: 0s - loss: 1.4039 - acc: 0.529 - ETA: 0s - loss: 1.4066 - acc: 0.528 - ETA: 0s - loss: 1.4063 - acc: 0.528 - ETA: 0s - loss: 1.4007 - acc: 0.530 - ETA: 0s - loss: 1.4039 - acc: 0.529 - ETA: 0s - loss: 1.4002 - acc: 0.531 - ETA: 0s - loss: 1.4008 - acc: 0.531 - ETA: 0s - loss: 1.4052 - acc: 0.530 - ETA: 0s - loss: 1.4049 - acc: 0.530 - ETA: 0s - loss: 1.4030 - acc: 0.531 - ETA: 0s - loss: 1.4042 - acc: 0.530 - ETA: 0s - loss: 1.4065 - acc: 0.529 - 2s 132us/step - loss: 1.4037 - acc: 0.5306 - val_loss: 1.3102 - val_acc: 0.5623\n",
      "Epoch 22/50\n",
      "16530/16530 [==============================] - ETA: 1s - loss: 1.7835 - acc: 0.445 - ETA: 1s - loss: 1.5234 - acc: 0.513 - ETA: 1s - loss: 1.4324 - acc: 0.533 - ETA: 1s - loss: 1.4165 - acc: 0.538 - ETA: 1s - loss: 1.3969 - acc: 0.543 - ETA: 1s - loss: 1.3862 - acc: 0.545 - ETA: 1s - loss: 1.3875 - acc: 0.546 - ETA: 1s - loss: 1.3935 - acc: 0.545 - ETA: 1s - loss: 1.3967 - acc: 0.543 - ETA: 1s - loss: 1.3943 - acc: 0.539 - ETA: 1s - loss: 1.3916 - acc: 0.540 - ETA: 1s - loss: 1.3902 - acc: 0.541 - ETA: 1s - loss: 1.3935 - acc: 0.538 - ETA: 1s - loss: 1.3931 - acc: 0.537 - ETA: 1s - loss: 1.3900 - acc: 0.537 - ETA: 1s - loss: 1.3923 - acc: 0.535 - ETA: 0s - loss: 1.3950 - acc: 0.536 - ETA: 0s - loss: 1.3975 - acc: 0.536 - ETA: 0s - loss: 1.3999 - acc: 0.535 - ETA: 0s - loss: 1.3984 - acc: 0.536 - ETA: 0s - loss: 1.3983 - acc: 0.537 - ETA: 0s - loss: 1.3973 - acc: 0.537 - ETA: 0s - loss: 1.3979 - acc: 0.537 - ETA: 0s - loss: 1.3988 - acc: 0.536 - ETA: 0s - loss: 1.4030 - acc: 0.535 - ETA: 0s - loss: 1.4001 - acc: 0.535 - ETA: 0s - loss: 1.4021 - acc: 0.534 - ETA: 0s - loss: 1.4037 - acc: 0.534 - ETA: 0s - loss: 1.4005 - acc: 0.535 - ETA: 0s - loss: 1.4015 - acc: 0.535 - ETA: 0s - loss: 1.4027 - acc: 0.534 - ETA: 0s - loss: 1.3993 - acc: 0.535 - 2s 133us/step - loss: 1.3990 - acc: 0.5348 - val_loss: 1.3117 - val_acc: 0.5694\n",
      "Epoch 23/50\n",
      "16530/16530 [==============================] - ETA: 1s - loss: 1.4733 - acc: 0.525 - ETA: 2s - loss: 1.4755 - acc: 0.506 - ETA: 1s - loss: 1.4407 - acc: 0.504 - ETA: 1s - loss: 1.4341 - acc: 0.504 - ETA: 1s - loss: 1.4145 - acc: 0.516 - ETA: 1s - loss: 1.4195 - acc: 0.515 - ETA: 1s - loss: 1.4205 - acc: 0.516 - ETA: 1s - loss: 1.4168 - acc: 0.520 - ETA: 1s - loss: 1.4233 - acc: 0.518 - ETA: 1s - loss: 1.4159 - acc: 0.519 - ETA: 1s - loss: 1.4080 - acc: 0.525 - ETA: 1s - loss: 1.4020 - acc: 0.528 - ETA: 1s - loss: 1.3975 - acc: 0.529 - ETA: 1s - loss: 1.4080 - acc: 0.525 - ETA: 1s - loss: 1.4150 - acc: 0.525 - ETA: 1s - loss: 1.4120 - acc: 0.527 - ETA: 1s - loss: 1.4126 - acc: 0.526 - ETA: 1s - loss: 1.4128 - acc: 0.526 - ETA: 1s - loss: 1.4120 - acc: 0.527 - ETA: 0s - loss: 1.4108 - acc: 0.527 - ETA: 0s - loss: 1.4101 - acc: 0.526 - ETA: 0s - loss: 1.4088 - acc: 0.527 - ETA: 0s - loss: 1.4108 - acc: 0.528 - ETA: 0s - loss: 1.4092 - acc: 0.529 - ETA: 0s - loss: 1.4075 - acc: 0.530 - ETA: 0s - loss: 1.4065 - acc: 0.530 - ETA: 0s - loss: 1.4060 - acc: 0.530 - ETA: 0s - loss: 1.4061 - acc: 0.530 - ETA: 0s - loss: 1.4046 - acc: 0.531 - ETA: 0s - loss: 1.4054 - acc: 0.530 - ETA: 0s - loss: 1.4042 - acc: 0.531 - ETA: 0s - loss: 1.4015 - acc: 0.532 - ETA: 0s - loss: 1.4005 - acc: 0.532 - ETA: 0s - loss: 1.3993 - acc: 0.532 - ETA: 0s - loss: 1.4019 - acc: 0.531 - 2s 135us/step - loss: 1.4031 - acc: 0.5311 - val_loss: 1.3431 - val_acc: 0.5520\n",
      "Epoch 24/50\n",
      "16530/16530 [==============================] - ETA: 2s - loss: 1.5960 - acc: 0.470 - ETA: 1s - loss: 1.4529 - acc: 0.512 - ETA: 1s - loss: 1.4253 - acc: 0.518 - ETA: 1s - loss: 1.4164 - acc: 0.522 - ETA: 1s - loss: 1.4242 - acc: 0.521 - ETA: 1s - loss: 1.4220 - acc: 0.526 - ETA: 1s - loss: 1.4146 - acc: 0.527 - ETA: 1s - loss: 1.4016 - acc: 0.533 - ETA: 1s - loss: 1.3971 - acc: 0.528 - ETA: 1s - loss: 1.4024 - acc: 0.527 - ETA: 1s - loss: 1.4018 - acc: 0.527 - ETA: 1s - loss: 1.4058 - acc: 0.526 - ETA: 1s - loss: 1.4009 - acc: 0.525 - ETA: 1s - loss: 1.4028 - acc: 0.526 - ETA: 1s - loss: 1.3994 - acc: 0.529 - ETA: 1s - loss: 1.3975 - acc: 0.528 - ETA: 1s - loss: 1.3970 - acc: 0.530 - ETA: 1s - loss: 1.3984 - acc: 0.530 - ETA: 0s - loss: 1.4013 - acc: 0.530 - ETA: 0s - loss: 1.4014 - acc: 0.530 - ETA: 0s - loss: 1.3995 - acc: 0.531 - ETA: 0s - loss: 1.3987 - acc: 0.531 - ETA: 0s - loss: 1.3957 - acc: 0.531 - ETA: 0s - loss: 1.3984 - acc: 0.529 - ETA: 0s - loss: 1.3984 - acc: 0.529 - ETA: 0s - loss: 1.3936 - acc: 0.531 - ETA: 0s - loss: 1.3924 - acc: 0.531 - ETA: 0s - loss: 1.3935 - acc: 0.531 - ETA: 0s - loss: 1.3914 - acc: 0.532 - ETA: 0s - loss: 1.3913 - acc: 0.533 - ETA: 0s - loss: 1.3916 - acc: 0.533 - ETA: 0s - loss: 1.3932 - acc: 0.533 - ETA: 0s - loss: 1.3933 - acc: 0.533 - ETA: 0s - loss: 1.3925 - acc: 0.534 - 2s 132us/step - loss: 1.3932 - acc: 0.5345 - val_loss: 1.3380 - val_acc: 0.5498\n",
      "Epoch 25/50\n",
      "16530/16530 [==============================] - ETA: 1s - loss: 1.3200 - acc: 0.590 - ETA: 2s - loss: 1.3764 - acc: 0.543 - ETA: 2s - loss: 1.3879 - acc: 0.540 - ETA: 2s - loss: 1.3898 - acc: 0.534 - ETA: 2s - loss: 1.3925 - acc: 0.528 - ETA: 2s - loss: 1.4000 - acc: 0.523 - ETA: 1s - loss: 1.3952 - acc: 0.525 - ETA: 1s - loss: 1.3921 - acc: 0.524 - ETA: 1s - loss: 1.3982 - acc: 0.523 - ETA: 1s - loss: 1.4007 - acc: 0.524 - ETA: 1s - loss: 1.3922 - acc: 0.526 - ETA: 1s - loss: 1.3946 - acc: 0.524 - ETA: 1s - loss: 1.3885 - acc: 0.527 - ETA: 1s - loss: 1.3917 - acc: 0.527 - ETA: 1s - loss: 1.3828 - acc: 0.529 - ETA: 1s - loss: 1.3851 - acc: 0.529 - ETA: 1s - loss: 1.3869 - acc: 0.529 - ETA: 1s - loss: 1.3863 - acc: 0.530 - ETA: 1s - loss: 1.3919 - acc: 0.529 - ETA: 1s - loss: 1.3901 - acc: 0.530 - ETA: 1s - loss: 1.3874 - acc: 0.531 - ETA: 1s - loss: 1.3889 - acc: 0.532 - ETA: 1s - loss: 1.3885 - acc: 0.532 - ETA: 0s - loss: 1.3909 - acc: 0.531 - ETA: 0s - loss: 1.3918 - acc: 0.530 - ETA: 0s - loss: 1.3953 - acc: 0.529 - ETA: 0s - loss: 1.3982 - acc: 0.529 - ETA: 0s - loss: 1.3979 - acc: 0.530 - ETA: 0s - loss: 1.3982 - acc: 0.529 - ETA: 0s - loss: 1.3992 - acc: 0.528 - ETA: 0s - loss: 1.4000 - acc: 0.528 - ETA: 0s - loss: 1.4021 - acc: 0.527 - ETA: 0s - loss: 1.4016 - acc: 0.527 - ETA: 0s - loss: 1.3980 - acc: 0.530 - ETA: 0s - loss: 1.3988 - acc: 0.530 - ETA: 0s - loss: 1.3997 - acc: 0.530 - ETA: 0s - loss: 1.4026 - acc: 0.529 - ETA: 0s - loss: 1.4033 - acc: 0.529 - ETA: 0s - loss: 1.4047 - acc: 0.529 - ETA: 0s - loss: 1.4061 - acc: 0.530 - ETA: 0s - loss: 1.4059 - acc: 0.531 - 2s 151us/step - loss: 1.4066 - acc: 0.5308 - val_loss: 1.3264 - val_acc: 0.5525\n",
      "Epoch 26/50\n",
      "16530/16530 [==============================] - ETA: 2s - loss: 1.3270 - acc: 0.580 - ETA: 2s - loss: 1.2911 - acc: 0.573 - ETA: 2s - loss: 1.2881 - acc: 0.564 - ETA: 2s - loss: 1.3214 - acc: 0.560 - ETA: 2s - loss: 1.3548 - acc: 0.545 - ETA: 1s - loss: 1.3761 - acc: 0.537 - ETA: 1s - loss: 1.3738 - acc: 0.540 - ETA: 1s - loss: 1.3818 - acc: 0.538 - ETA: 1s - loss: 1.3934 - acc: 0.535 - ETA: 1s - loss: 1.3902 - acc: 0.538 - ETA: 1s - loss: 1.3975 - acc: 0.538 - ETA: 1s - loss: 1.3974 - acc: 0.533 - ETA: 1s - loss: 1.3982 - acc: 0.533 - ETA: 1s - loss: 1.4062 - acc: 0.533 - ETA: 1s - loss: 1.4076 - acc: 0.534 - ETA: 1s - loss: 1.4026 - acc: 0.535 - ETA: 1s - loss: 1.4037 - acc: 0.534 - ETA: 1s - loss: 1.4046 - acc: 0.535 - ETA: 1s - loss: 1.4089 - acc: 0.534 - ETA: 1s - loss: 1.4124 - acc: 0.533 - ETA: 1s - loss: 1.4130 - acc: 0.531 - ETA: 1s - loss: 1.4132 - acc: 0.531 - ETA: 1s - loss: 1.4088 - acc: 0.532 - ETA: 1s - loss: 1.4091 - acc: 0.531 - ETA: 0s - loss: 1.4088 - acc: 0.530 - ETA: 0s - loss: 1.4067 - acc: 0.531 - ETA: 0s - loss: 1.4001 - acc: 0.533 - ETA: 0s - loss: 1.3981 - acc: 0.534 - ETA: 0s - loss: 1.3987 - acc: 0.533 - ETA: 0s - loss: 1.3963 - acc: 0.533 - ETA: 0s - loss: 1.3982 - acc: 0.533 - ETA: 0s - loss: 1.3977 - acc: 0.534 - ETA: 0s - loss: 1.3977 - acc: 0.534 - ETA: 0s - loss: 1.4009 - acc: 0.533 - ETA: 0s - loss: 1.4023 - acc: 0.532 - ETA: 0s - loss: 1.4066 - acc: 0.531 - ETA: 0s - loss: 1.4053 - acc: 0.530 - ETA: 0s - loss: 1.4034 - acc: 0.531 - ETA: 0s - loss: 1.4047 - acc: 0.531 - ETA: 0s - loss: 1.4041 - acc: 0.531 - 2s 147us/step - loss: 1.4041 - acc: 0.5313 - val_loss: 1.3144 - val_acc: 0.5661\n",
      "Epoch 27/50\n",
      "16530/16530 [==============================] - ETA: 2s - loss: 1.4445 - acc: 0.515 - ETA: 1s - loss: 1.4133 - acc: 0.527 - ETA: 2s - loss: 1.3733 - acc: 0.534 - ETA: 2s - loss: 1.3864 - acc: 0.530 - ETA: 2s - loss: 1.3954 - acc: 0.529 - ETA: 1s - loss: 1.3992 - acc: 0.530 - ETA: 1s - loss: 1.3934 - acc: 0.530 - ETA: 1s - loss: 1.3954 - acc: 0.528 - ETA: 1s - loss: 1.3991 - acc: 0.526 - ETA: 1s - loss: 1.4005 - acc: 0.527 - ETA: 1s - loss: 1.4005 - acc: 0.527 - ETA: 1s - loss: 1.3966 - acc: 0.529 - ETA: 1s - loss: 1.3939 - acc: 0.531 - ETA: 1s - loss: 1.3988 - acc: 0.530 - ETA: 1s - loss: 1.3996 - acc: 0.528 - ETA: 1s - loss: 1.4055 - acc: 0.528 - ETA: 1s - loss: 1.4083 - acc: 0.527 - ETA: 1s - loss: 1.4065 - acc: 0.527 - ETA: 1s - loss: 1.4068 - acc: 0.527 - ETA: 1s - loss: 1.4053 - acc: 0.528 - ETA: 1s - loss: 1.4066 - acc: 0.529 - ETA: 1s - loss: 1.4094 - acc: 0.530 - ETA: 0s - loss: 1.4114 - acc: 0.530 - ETA: 0s - loss: 1.4129 - acc: 0.529 - ETA: 0s - loss: 1.4110 - acc: 0.531 - ETA: 0s - loss: 1.4104 - acc: 0.530 - ETA: 0s - loss: 1.4121 - acc: 0.530 - ETA: 0s - loss: 1.4116 - acc: 0.531 - ETA: 0s - loss: 1.4079 - acc: 0.532 - ETA: 0s - loss: 1.4077 - acc: 0.532 - ETA: 0s - loss: 1.4106 - acc: 0.530 - ETA: 0s - loss: 1.4092 - acc: 0.530 - ETA: 0s - loss: 1.4070 - acc: 0.529 - ETA: 0s - loss: 1.4078 - acc: 0.529 - ETA: 0s - loss: 1.4071 - acc: 0.529 - ETA: 0s - loss: 1.4072 - acc: 0.530 - 2s 139us/step - loss: 1.4065 - acc: 0.5296 - val_loss: 1.3118 - val_acc: 0.5710\n",
      "Epoch 28/50\n",
      "16530/16530 [==============================] - ETA: 1s - loss: 1.3816 - acc: 0.560 - ETA: 1s - loss: 1.3930 - acc: 0.538 - ETA: 1s - loss: 1.3632 - acc: 0.546 - ETA: 1s - loss: 1.3704 - acc: 0.550 - ETA: 1s - loss: 1.3952 - acc: 0.541 - ETA: 1s - loss: 1.3716 - acc: 0.548 - ETA: 1s - loss: 1.3729 - acc: 0.550 - ETA: 1s - loss: 1.3752 - acc: 0.547 - ETA: 1s - loss: 1.3855 - acc: 0.544 - ETA: 1s - loss: 1.3840 - acc: 0.543 - ETA: 1s - loss: 1.3874 - acc: 0.542 - ETA: 1s - loss: 1.3943 - acc: 0.540 - ETA: 1s - loss: 1.3963 - acc: 0.540 - ETA: 1s - loss: 1.4007 - acc: 0.538 - ETA: 1s - loss: 1.3982 - acc: 0.541 - ETA: 1s - loss: 1.3982 - acc: 0.541 - ETA: 1s - loss: 1.4038 - acc: 0.539 - ETA: 0s - loss: 1.4052 - acc: 0.537 - ETA: 0s - loss: 1.4032 - acc: 0.539 - ETA: 0s - loss: 1.4000 - acc: 0.539 - ETA: 0s - loss: 1.4009 - acc: 0.539 - ETA: 0s - loss: 1.4015 - acc: 0.539 - ETA: 0s - loss: 1.4015 - acc: 0.537 - ETA: 0s - loss: 1.4000 - acc: 0.537 - ETA: 0s - loss: 1.3973 - acc: 0.541 - ETA: 0s - loss: 1.4002 - acc: 0.539 - ETA: 0s - loss: 1.3984 - acc: 0.539 - ETA: 0s - loss: 1.3990 - acc: 0.539 - ETA: 0s - loss: 1.4026 - acc: 0.537 - ETA: 0s - loss: 1.4004 - acc: 0.538 - ETA: 0s - loss: 1.4003 - acc: 0.537 - ETA: 0s - loss: 1.4008 - acc: 0.538 - ETA: 0s - loss: 1.4001 - acc: 0.537 - 2s 131us/step - loss: 1.3978 - acc: 0.5387 - val_loss: 1.3035 - val_acc: 0.5705\n",
      "Epoch 29/50\n",
      "16530/16530 [==============================] - ETA: 1s - loss: 1.3316 - acc: 0.530 - ETA: 1s - loss: 1.3878 - acc: 0.505 - ETA: 1s - loss: 1.3843 - acc: 0.524 - ETA: 1s - loss: 1.3637 - acc: 0.548 - ETA: 1s - loss: 1.3563 - acc: 0.550 - ETA: 1s - loss: 1.3614 - acc: 0.543 - ETA: 1s - loss: 1.3643 - acc: 0.545 - ETA: 1s - loss: 1.3782 - acc: 0.542 - ETA: 1s - loss: 1.3870 - acc: 0.536 - ETA: 1s - loss: 1.3849 - acc: 0.538 - ETA: 1s - loss: 1.3845 - acc: 0.536 - ETA: 1s - loss: 1.3807 - acc: 0.537 - ETA: 1s - loss: 1.3785 - acc: 0.536 - ETA: 1s - loss: 1.3830 - acc: 0.535 - ETA: 1s - loss: 1.3875 - acc: 0.537 - ETA: 1s - loss: 1.3879 - acc: 0.537 - ETA: 0s - loss: 1.3893 - acc: 0.537 - ETA: 0s - loss: 1.3873 - acc: 0.537 - ETA: 0s - loss: 1.3869 - acc: 0.537 - ETA: 0s - loss: 1.3876 - acc: 0.537 - ETA: 0s - loss: 1.3886 - acc: 0.538 - ETA: 0s - loss: 1.3865 - acc: 0.538 - ETA: 0s - loss: 1.3901 - acc: 0.536 - ETA: 0s - loss: 1.3939 - acc: 0.535 - ETA: 0s - loss: 1.3949 - acc: 0.535 - ETA: 0s - loss: 1.3952 - acc: 0.535 - ETA: 0s - loss: 1.3949 - acc: 0.534 - ETA: 0s - loss: 1.3961 - acc: 0.534 - ETA: 0s - loss: 1.3956 - acc: 0.534 - ETA: 0s - loss: 1.3986 - acc: 0.534 - ETA: 0s - loss: 1.3996 - acc: 0.533 - ETA: 0s - loss: 1.3994 - acc: 0.533 - 2s 133us/step - loss: 1.3983 - acc: 0.5329 - val_loss: 1.3002 - val_acc: 0.5770\n",
      "Epoch 30/50\n",
      "16530/16530 [==============================] - ETA: 2s - loss: 1.4711 - acc: 0.535 - ETA: 1s - loss: 1.3553 - acc: 0.540 - ETA: 1s - loss: 1.3828 - acc: 0.539 - ETA: 1s - loss: 1.3533 - acc: 0.547 - ETA: 1s - loss: 1.3882 - acc: 0.535 - ETA: 1s - loss: 1.3857 - acc: 0.530 - ETA: 1s - loss: 1.4018 - acc: 0.531 - ETA: 1s - loss: 1.3935 - acc: 0.533 - ETA: 1s - loss: 1.3841 - acc: 0.538 - ETA: 1s - loss: 1.3801 - acc: 0.539 - ETA: 1s - loss: 1.3776 - acc: 0.539 - ETA: 1s - loss: 1.3781 - acc: 0.540 - ETA: 1s - loss: 1.3846 - acc: 0.537 - ETA: 1s - loss: 1.3827 - acc: 0.538 - ETA: 1s - loss: 1.3807 - acc: 0.538 - ETA: 1s - loss: 1.3835 - acc: 0.537 - ETA: 1s - loss: 1.3805 - acc: 0.539 - ETA: 1s - loss: 1.3756 - acc: 0.540 - ETA: 1s - loss: 1.3794 - acc: 0.537 - ETA: 1s - loss: 1.3831 - acc: 0.536 - ETA: 1s - loss: 1.3805 - acc: 0.537 - ETA: 0s - loss: 1.3785 - acc: 0.538 - ETA: 0s - loss: 1.3800 - acc: 0.539 - ETA: 0s - loss: 1.3821 - acc: 0.539 - ETA: 0s - loss: 1.3836 - acc: 0.538 - ETA: 0s - loss: 1.3821 - acc: 0.539 - ETA: 0s - loss: 1.3822 - acc: 0.539 - ETA: 0s - loss: 1.3791 - acc: 0.541 - ETA: 0s - loss: 1.3780 - acc: 0.541 - ETA: 0s - loss: 1.3770 - acc: 0.542 - ETA: 0s - loss: 1.3765 - acc: 0.542 - ETA: 0s - loss: 1.3790 - acc: 0.541 - ETA: 0s - loss: 1.3813 - acc: 0.540 - ETA: 0s - loss: 1.3812 - acc: 0.540 - ETA: 0s - loss: 1.3823 - acc: 0.540 - ETA: 0s - loss: 1.3855 - acc: 0.539 - ETA: 0s - loss: 1.3852 - acc: 0.539 - 2s 141us/step - loss: 1.3836 - acc: 0.5395 - val_loss: 1.2950 - val_acc: 0.5787\n",
      "Epoch 31/50\n"
     ]
    },
    {
     "name": "stdout",
     "output_type": "stream",
     "text": [
      "16530/16530 [==============================] - ETA: 2s - loss: 1.3252 - acc: 0.560 - ETA: 2s - loss: 1.3930 - acc: 0.546 - ETA: 2s - loss: 1.3856 - acc: 0.547 - ETA: 2s - loss: 1.3916 - acc: 0.545 - ETA: 2s - loss: 1.3929 - acc: 0.542 - ETA: 1s - loss: 1.3876 - acc: 0.541 - ETA: 1s - loss: 1.3859 - acc: 0.541 - ETA: 1s - loss: 1.3977 - acc: 0.538 - ETA: 1s - loss: 1.3960 - acc: 0.537 - ETA: 1s - loss: 1.4002 - acc: 0.539 - ETA: 1s - loss: 1.3916 - acc: 0.541 - ETA: 1s - loss: 1.4022 - acc: 0.538 - ETA: 1s - loss: 1.4006 - acc: 0.536 - ETA: 1s - loss: 1.3966 - acc: 0.535 - ETA: 1s - loss: 1.3912 - acc: 0.536 - ETA: 1s - loss: 1.3931 - acc: 0.538 - ETA: 1s - loss: 1.3959 - acc: 0.538 - ETA: 1s - loss: 1.3910 - acc: 0.538 - ETA: 1s - loss: 1.3873 - acc: 0.541 - ETA: 1s - loss: 1.3887 - acc: 0.541 - ETA: 1s - loss: 1.3863 - acc: 0.541 - ETA: 1s - loss: 1.3809 - acc: 0.543 - ETA: 0s - loss: 1.3843 - acc: 0.545 - ETA: 0s - loss: 1.3835 - acc: 0.545 - ETA: 0s - loss: 1.3840 - acc: 0.544 - ETA: 0s - loss: 1.3805 - acc: 0.545 - ETA: 0s - loss: 1.3824 - acc: 0.544 - ETA: 0s - loss: 1.3834 - acc: 0.542 - ETA: 0s - loss: 1.3808 - acc: 0.543 - ETA: 0s - loss: 1.3812 - acc: 0.542 - ETA: 0s - loss: 1.3839 - acc: 0.542 - ETA: 0s - loss: 1.3866 - acc: 0.540 - ETA: 0s - loss: 1.3836 - acc: 0.541 - ETA: 0s - loss: 1.3856 - acc: 0.539 - ETA: 0s - loss: 1.3840 - acc: 0.539 - ETA: 0s - loss: 1.3825 - acc: 0.540 - ETA: 0s - loss: 1.3811 - acc: 0.539 - ETA: 0s - loss: 1.3829 - acc: 0.539 - ETA: 0s - loss: 1.3813 - acc: 0.539 - 2s 141us/step - loss: 1.3818 - acc: 0.5394 - val_loss: 1.3037 - val_acc: 0.5716\n",
      "Epoch 32/50\n",
      "16530/16530 [==============================] - ETA: 2s - loss: 1.4593 - acc: 0.495 - ETA: 2s - loss: 1.3654 - acc: 0.535 - ETA: 2s - loss: 1.3389 - acc: 0.549 - ETA: 2s - loss: 1.3677 - acc: 0.540 - ETA: 2s - loss: 1.3546 - acc: 0.549 - ETA: 2s - loss: 1.3498 - acc: 0.550 - ETA: 3s - loss: 1.3511 - acc: 0.553 - ETA: 3s - loss: 1.3560 - acc: 0.554 - ETA: 3s - loss: 1.3547 - acc: 0.550 - ETA: 3s - loss: 1.3621 - acc: 0.550 - ETA: 3s - loss: 1.3640 - acc: 0.548 - ETA: 3s - loss: 1.3635 - acc: 0.550 - ETA: 3s - loss: 1.3579 - acc: 0.551 - ETA: 2s - loss: 1.3474 - acc: 0.553 - ETA: 2s - loss: 1.3552 - acc: 0.547 - ETA: 2s - loss: 1.3626 - acc: 0.545 - ETA: 2s - loss: 1.3654 - acc: 0.544 - ETA: 2s - loss: 1.3639 - acc: 0.545 - ETA: 2s - loss: 1.3638 - acc: 0.543 - ETA: 2s - loss: 1.3668 - acc: 0.542 - ETA: 2s - loss: 1.3637 - acc: 0.545 - ETA: 2s - loss: 1.3694 - acc: 0.544 - ETA: 2s - loss: 1.3674 - acc: 0.544 - ETA: 2s - loss: 1.3649 - acc: 0.545 - ETA: 1s - loss: 1.3674 - acc: 0.542 - ETA: 1s - loss: 1.3660 - acc: 0.543 - ETA: 1s - loss: 1.3697 - acc: 0.543 - ETA: 1s - loss: 1.3673 - acc: 0.544 - ETA: 1s - loss: 1.3671 - acc: 0.545 - ETA: 1s - loss: 1.3719 - acc: 0.543 - ETA: 1s - loss: 1.3767 - acc: 0.541 - ETA: 1s - loss: 1.3763 - acc: 0.541 - ETA: 1s - loss: 1.3745 - acc: 0.542 - ETA: 1s - loss: 1.3741 - acc: 0.543 - ETA: 1s - loss: 1.3767 - acc: 0.541 - ETA: 0s - loss: 1.3766 - acc: 0.540 - ETA: 0s - loss: 1.3751 - acc: 0.541 - ETA: 0s - loss: 1.3729 - acc: 0.542 - ETA: 0s - loss: 1.3743 - acc: 0.542 - ETA: 0s - loss: 1.3752 - acc: 0.542 - ETA: 0s - loss: 1.3754 - acc: 0.542 - ETA: 0s - loss: 1.3761 - acc: 0.541 - ETA: 0s - loss: 1.3771 - acc: 0.541 - ETA: 0s - loss: 1.3808 - acc: 0.539 - ETA: 0s - loss: 1.3821 - acc: 0.539 - ETA: 0s - loss: 1.3815 - acc: 0.539 - ETA: 0s - loss: 1.3826 - acc: 0.539 - ETA: 0s - loss: 1.3844 - acc: 0.538 - 3s 197us/step - loss: 1.3845 - acc: 0.5382 - val_loss: 1.2903 - val_acc: 0.5863\n",
      "Epoch 33/50\n",
      "16530/16530 [==============================] - ETA: 2s - loss: 1.4235 - acc: 0.540 - ETA: 2s - loss: 1.4018 - acc: 0.528 - ETA: 3s - loss: 1.4253 - acc: 0.515 - ETA: 2s - loss: 1.3913 - acc: 0.528 - ETA: 2s - loss: 1.3929 - acc: 0.528 - ETA: 2s - loss: 1.3890 - acc: 0.535 - ETA: 2s - loss: 1.3902 - acc: 0.526 - ETA: 2s - loss: 1.3852 - acc: 0.527 - ETA: 2s - loss: 1.3913 - acc: 0.526 - ETA: 2s - loss: 1.3913 - acc: 0.527 - ETA: 2s - loss: 1.3904 - acc: 0.528 - ETA: 2s - loss: 1.3996 - acc: 0.526 - ETA: 2s - loss: 1.4040 - acc: 0.526 - ETA: 2s - loss: 1.3975 - acc: 0.531 - ETA: 2s - loss: 1.3938 - acc: 0.533 - ETA: 1s - loss: 1.3901 - acc: 0.536 - ETA: 1s - loss: 1.3829 - acc: 0.537 - ETA: 1s - loss: 1.3855 - acc: 0.536 - ETA: 1s - loss: 1.3865 - acc: 0.537 - ETA: 1s - loss: 1.3838 - acc: 0.539 - ETA: 1s - loss: 1.3829 - acc: 0.538 - ETA: 1s - loss: 1.3846 - acc: 0.538 - ETA: 1s - loss: 1.3812 - acc: 0.539 - ETA: 1s - loss: 1.3817 - acc: 0.539 - ETA: 1s - loss: 1.3839 - acc: 0.540 - ETA: 1s - loss: 1.3815 - acc: 0.540 - ETA: 1s - loss: 1.3777 - acc: 0.541 - ETA: 1s - loss: 1.3762 - acc: 0.541 - ETA: 0s - loss: 1.3756 - acc: 0.541 - ETA: 0s - loss: 1.3761 - acc: 0.542 - ETA: 0s - loss: 1.3767 - acc: 0.542 - ETA: 0s - loss: 1.3770 - acc: 0.542 - ETA: 0s - loss: 1.3783 - acc: 0.541 - ETA: 0s - loss: 1.3793 - acc: 0.541 - ETA: 0s - loss: 1.3793 - acc: 0.541 - ETA: 0s - loss: 1.3798 - acc: 0.542 - ETA: 0s - loss: 1.3785 - acc: 0.544 - ETA: 0s - loss: 1.3839 - acc: 0.542 - ETA: 0s - loss: 1.3822 - acc: 0.542 - ETA: 0s - loss: 1.3847 - acc: 0.542 - ETA: 0s - loss: 1.3843 - acc: 0.542 - ETA: 0s - loss: 1.3822 - acc: 0.542 - ETA: 0s - loss: 1.3839 - acc: 0.541 - ETA: 0s - loss: 1.3856 - acc: 0.541 - 3s 176us/step - loss: 1.3867 - acc: 0.5411 - val_loss: 1.3159 - val_acc: 0.5743\n",
      "Epoch 34/50\n",
      "16530/16530 [==============================] - ETA: 2s - loss: 1.3950 - acc: 0.540 - ETA: 2s - loss: 1.4194 - acc: 0.547 - ETA: 2s - loss: 1.4019 - acc: 0.555 - ETA: 2s - loss: 1.4110 - acc: 0.541 - ETA: 1s - loss: 1.3703 - acc: 0.549 - ETA: 1s - loss: 1.3687 - acc: 0.545 - ETA: 1s - loss: 1.3577 - acc: 0.550 - ETA: 1s - loss: 1.3506 - acc: 0.553 - ETA: 1s - loss: 1.3644 - acc: 0.552 - ETA: 1s - loss: 1.3534 - acc: 0.553 - ETA: 1s - loss: 1.3566 - acc: 0.548 - ETA: 1s - loss: 1.3589 - acc: 0.548 - ETA: 1s - loss: 1.3577 - acc: 0.547 - ETA: 1s - loss: 1.3589 - acc: 0.549 - ETA: 1s - loss: 1.3710 - acc: 0.545 - ETA: 1s - loss: 1.3787 - acc: 0.543 - ETA: 1s - loss: 1.3733 - acc: 0.544 - ETA: 1s - loss: 1.3730 - acc: 0.544 - ETA: 1s - loss: 1.3724 - acc: 0.545 - ETA: 1s - loss: 1.3680 - acc: 0.546 - ETA: 1s - loss: 1.3652 - acc: 0.548 - ETA: 0s - loss: 1.3698 - acc: 0.547 - ETA: 0s - loss: 1.3753 - acc: 0.547 - ETA: 0s - loss: 1.3691 - acc: 0.549 - ETA: 0s - loss: 1.3669 - acc: 0.550 - ETA: 0s - loss: 1.3669 - acc: 0.549 - ETA: 0s - loss: 1.3661 - acc: 0.549 - ETA: 0s - loss: 1.3664 - acc: 0.549 - ETA: 0s - loss: 1.3716 - acc: 0.546 - ETA: 0s - loss: 1.3752 - acc: 0.544 - ETA: 0s - loss: 1.3780 - acc: 0.543 - ETA: 0s - loss: 1.3789 - acc: 0.543 - ETA: 0s - loss: 1.3801 - acc: 0.542 - ETA: 0s - loss: 1.3779 - acc: 0.543 - ETA: 0s - loss: 1.3761 - acc: 0.544 - ETA: 0s - loss: 1.3759 - acc: 0.545 - ETA: 0s - loss: 1.3758 - acc: 0.545 - ETA: 0s - loss: 1.3768 - acc: 0.545 - 2s 148us/step - loss: 1.3745 - acc: 0.5456 - val_loss: 1.2772 - val_acc: 0.5852\n",
      "Epoch 35/50\n",
      "16530/16530 [==============================] - ETA: 2s - loss: 1.2750 - acc: 0.550 - ETA: 2s - loss: 1.3169 - acc: 0.555 - ETA: 2s - loss: 1.3505 - acc: 0.555 - ETA: 2s - loss: 1.3395 - acc: 0.562 - ETA: 2s - loss: 1.3789 - acc: 0.548 - ETA: 2s - loss: 1.3806 - acc: 0.545 - ETA: 2s - loss: 1.3793 - acc: 0.545 - ETA: 2s - loss: 1.3828 - acc: 0.541 - ETA: 2s - loss: 1.3849 - acc: 0.538 - ETA: 2s - loss: 1.3909 - acc: 0.538 - ETA: 1s - loss: 1.3899 - acc: 0.542 - ETA: 1s - loss: 1.3790 - acc: 0.545 - ETA: 1s - loss: 1.3815 - acc: 0.541 - ETA: 1s - loss: 1.3823 - acc: 0.539 - ETA: 1s - loss: 1.3776 - acc: 0.540 - ETA: 1s - loss: 1.3820 - acc: 0.539 - ETA: 1s - loss: 1.3871 - acc: 0.536 - ETA: 1s - loss: 1.3800 - acc: 0.538 - ETA: 1s - loss: 1.3814 - acc: 0.537 - ETA: 1s - loss: 1.3836 - acc: 0.536 - ETA: 1s - loss: 1.3864 - acc: 0.536 - ETA: 1s - loss: 1.3907 - acc: 0.534 - ETA: 1s - loss: 1.3918 - acc: 0.535 - ETA: 0s - loss: 1.3898 - acc: 0.535 - ETA: 0s - loss: 1.3908 - acc: 0.536 - ETA: 0s - loss: 1.3828 - acc: 0.538 - ETA: 0s - loss: 1.3798 - acc: 0.539 - ETA: 0s - loss: 1.3835 - acc: 0.537 - ETA: 0s - loss: 1.3843 - acc: 0.538 - ETA: 0s - loss: 1.3850 - acc: 0.538 - ETA: 0s - loss: 1.3824 - acc: 0.540 - ETA: 0s - loss: 1.3800 - acc: 0.540 - ETA: 0s - loss: 1.3793 - acc: 0.540 - ETA: 0s - loss: 1.3803 - acc: 0.540 - ETA: 0s - loss: 1.3833 - acc: 0.540 - ETA: 0s - loss: 1.3833 - acc: 0.539 - ETA: 0s - loss: 1.3839 - acc: 0.539 - ETA: 0s - loss: 1.3843 - acc: 0.539 - ETA: 0s - loss: 1.3823 - acc: 0.541 - ETA: 0s - loss: 1.3819 - acc: 0.541 - ETA: 0s - loss: 1.3779 - acc: 0.542 - 3s 160us/step - loss: 1.3773 - acc: 0.5428 - val_loss: 1.2675 - val_acc: 0.5836\n",
      "Epoch 36/50\n",
      "16530/16530 [==============================] - ETA: 2s - loss: 1.3389 - acc: 0.525 - ETA: 2s - loss: 1.3557 - acc: 0.541 - ETA: 2s - loss: 1.3432 - acc: 0.540 - ETA: 2s - loss: 1.3639 - acc: 0.538 - ETA: 2s - loss: 1.3741 - acc: 0.534 - ETA: 2s - loss: 1.3636 - acc: 0.531 - ETA: 1s - loss: 1.3546 - acc: 0.538 - ETA: 1s - loss: 1.3627 - acc: 0.537 - ETA: 1s - loss: 1.3661 - acc: 0.537 - ETA: 1s - loss: 1.3676 - acc: 0.539 - ETA: 1s - loss: 1.3621 - acc: 0.541 - ETA: 1s - loss: 1.3721 - acc: 0.538 - ETA: 1s - loss: 1.3701 - acc: 0.539 - ETA: 1s - loss: 1.3693 - acc: 0.541 - ETA: 1s - loss: 1.3740 - acc: 0.543 - ETA: 1s - loss: 1.3826 - acc: 0.542 - ETA: 1s - loss: 1.3808 - acc: 0.543 - ETA: 1s - loss: 1.3781 - acc: 0.544 - ETA: 1s - loss: 1.3853 - acc: 0.541 - ETA: 1s - loss: 1.3813 - acc: 0.541 - ETA: 1s - loss: 1.3813 - acc: 0.540 - ETA: 1s - loss: 1.3737 - acc: 0.542 - ETA: 1s - loss: 1.3707 - acc: 0.543 - ETA: 0s - loss: 1.3690 - acc: 0.544 - ETA: 0s - loss: 1.3665 - acc: 0.546 - ETA: 0s - loss: 1.3668 - acc: 0.547 - ETA: 0s - loss: 1.3674 - acc: 0.546 - ETA: 0s - loss: 1.3672 - acc: 0.546 - ETA: 0s - loss: 1.3647 - acc: 0.547 - ETA: 0s - loss: 1.3648 - acc: 0.548 - ETA: 0s - loss: 1.3626 - acc: 0.547 - ETA: 0s - loss: 1.3613 - acc: 0.548 - ETA: 0s - loss: 1.3612 - acc: 0.549 - ETA: 0s - loss: 1.3611 - acc: 0.550 - ETA: 0s - loss: 1.3615 - acc: 0.549 - ETA: 0s - loss: 1.3642 - acc: 0.549 - ETA: 0s - loss: 1.3661 - acc: 0.548 - ETA: 0s - loss: 1.3651 - acc: 0.547 - ETA: 0s - loss: 1.3642 - acc: 0.548 - ETA: 0s - loss: 1.3644 - acc: 0.548 - 3s 153us/step - loss: 1.3639 - acc: 0.5488 - val_loss: 1.3106 - val_acc: 0.5672\n",
      "Epoch 37/50\n",
      "16530/16530 [==============================] - ETA: 2s - loss: 1.2779 - acc: 0.525 - ETA: 2s - loss: 1.3457 - acc: 0.550 - ETA: 2s - loss: 1.2930 - acc: 0.562 - ETA: 2s - loss: 1.3186 - acc: 0.558 - ETA: 2s - loss: 1.3121 - acc: 0.560 - ETA: 2s - loss: 1.2976 - acc: 0.566 - ETA: 1s - loss: 1.3203 - acc: 0.558 - ETA: 1s - loss: 1.3251 - acc: 0.556 - ETA: 1s - loss: 1.3419 - acc: 0.551 - ETA: 1s - loss: 1.3426 - acc: 0.548 - ETA: 1s - loss: 1.3429 - acc: 0.546 - ETA: 1s - loss: 1.3399 - acc: 0.547 - ETA: 1s - loss: 1.3438 - acc: 0.545 - ETA: 1s - loss: 1.3484 - acc: 0.546 - ETA: 1s - loss: 1.3543 - acc: 0.546 - ETA: 1s - loss: 1.3591 - acc: 0.543 - ETA: 1s - loss: 1.3512 - acc: 0.545 - ETA: 1s - loss: 1.3517 - acc: 0.544 - ETA: 1s - loss: 1.3554 - acc: 0.546 - ETA: 1s - loss: 1.3611 - acc: 0.544 - ETA: 1s - loss: 1.3594 - acc: 0.545 - ETA: 1s - loss: 1.3628 - acc: 0.545 - ETA: 1s - loss: 1.3591 - acc: 0.545 - ETA: 1s - loss: 1.3604 - acc: 0.544 - ETA: 0s - loss: 1.3581 - acc: 0.546 - ETA: 0s - loss: 1.3579 - acc: 0.546 - ETA: 0s - loss: 1.3558 - acc: 0.546 - ETA: 0s - loss: 1.3523 - acc: 0.548 - ETA: 0s - loss: 1.3548 - acc: 0.547 - ETA: 0s - loss: 1.3574 - acc: 0.546 - ETA: 0s - loss: 1.3558 - acc: 0.546 - ETA: 0s - loss: 1.3646 - acc: 0.542 - ETA: 0s - loss: 1.3654 - acc: 0.541 - ETA: 0s - loss: 1.3654 - acc: 0.541 - ETA: 0s - loss: 1.3641 - acc: 0.541 - ETA: 0s - loss: 1.3649 - acc: 0.541 - ETA: 0s - loss: 1.3653 - acc: 0.541 - ETA: 0s - loss: 1.3657 - acc: 0.542 - ETA: 0s - loss: 1.3628 - acc: 0.543 - ETA: 0s - loss: 1.3617 - acc: 0.543 - 3s 157us/step - loss: 1.3609 - acc: 0.5437 - val_loss: 1.2956 - val_acc: 0.5841\n",
      "Epoch 38/50\n",
      "16530/16530 [==============================] - ETA: 2s - loss: 1.3557 - acc: 0.560 - ETA: 2s - loss: 1.3479 - acc: 0.565 - ETA: 2s - loss: 1.3054 - acc: 0.576 - ETA: 2s - loss: 1.3288 - acc: 0.557 - ETA: 1s - loss: 1.3100 - acc: 0.564 - ETA: 2s - loss: 1.3074 - acc: 0.566 - ETA: 1s - loss: 1.3060 - acc: 0.562 - ETA: 1s - loss: 1.3041 - acc: 0.562 - ETA: 1s - loss: 1.3153 - acc: 0.562 - ETA: 1s - loss: 1.3075 - acc: 0.563 - ETA: 1s - loss: 1.3158 - acc: 0.559 - ETA: 1s - loss: 1.3268 - acc: 0.554 - ETA: 1s - loss: 1.3344 - acc: 0.551 - ETA: 1s - loss: 1.3380 - acc: 0.550 - ETA: 1s - loss: 1.3345 - acc: 0.551 - ETA: 1s - loss: 1.3393 - acc: 0.552 - ETA: 1s - loss: 1.3363 - acc: 0.553 - ETA: 1s - loss: 1.3407 - acc: 0.553 - ETA: 1s - loss: 1.3384 - acc: 0.554 - ETA: 1s - loss: 1.3307 - acc: 0.557 - ETA: 1s - loss: 1.3285 - acc: 0.557 - ETA: 1s - loss: 1.3318 - acc: 0.557 - ETA: 1s - loss: 1.3375 - acc: 0.555 - ETA: 1s - loss: 1.3414 - acc: 0.554 - ETA: 1s - loss: 1.3428 - acc: 0.553 - ETA: 0s - loss: 1.3439 - acc: 0.554 - ETA: 0s - loss: 1.3407 - acc: 0.554 - ETA: 0s - loss: 1.3412 - acc: 0.554 - ETA: 0s - loss: 1.3405 - acc: 0.554 - ETA: 0s - loss: 1.3445 - acc: 0.553 - ETA: 0s - loss: 1.3456 - acc: 0.552 - ETA: 0s - loss: 1.3478 - acc: 0.551 - ETA: 0s - loss: 1.3494 - acc: 0.551 - ETA: 0s - loss: 1.3513 - acc: 0.549 - ETA: 0s - loss: 1.3526 - acc: 0.549 - ETA: 0s - loss: 1.3540 - acc: 0.549 - ETA: 0s - loss: 1.3542 - acc: 0.548 - ETA: 0s - loss: 1.3553 - acc: 0.547 - ETA: 0s - loss: 1.3550 - acc: 0.547 - ETA: 0s - loss: 1.3557 - acc: 0.547 - ETA: 0s - loss: 1.3570 - acc: 0.547 - 3s 164us/step - loss: 1.3549 - acc: 0.5486 - val_loss: 1.2837 - val_acc: 0.5841\n",
      "Epoch 39/50\n"
     ]
    },
    {
     "name": "stdout",
     "output_type": "stream",
     "text": [
      "16530/16530 [==============================] - ETA: 1s - loss: 1.5698 - acc: 0.450 - ETA: 2s - loss: 1.4493 - acc: 0.508 - ETA: 2s - loss: 1.3943 - acc: 0.519 - ETA: 2s - loss: 1.3698 - acc: 0.521 - ETA: 2s - loss: 1.3405 - acc: 0.528 - ETA: 2s - loss: 1.3554 - acc: 0.533 - ETA: 2s - loss: 1.3679 - acc: 0.528 - ETA: 2s - loss: 1.3627 - acc: 0.536 - ETA: 1s - loss: 1.3579 - acc: 0.536 - ETA: 1s - loss: 1.3643 - acc: 0.537 - ETA: 1s - loss: 1.3633 - acc: 0.540 - ETA: 1s - loss: 1.3690 - acc: 0.539 - ETA: 1s - loss: 1.3684 - acc: 0.541 - ETA: 1s - loss: 1.3670 - acc: 0.541 - ETA: 1s - loss: 1.3665 - acc: 0.541 - ETA: 1s - loss: 1.3653 - acc: 0.542 - ETA: 1s - loss: 1.3597 - acc: 0.546 - ETA: 1s - loss: 1.3564 - acc: 0.547 - ETA: 1s - loss: 1.3656 - acc: 0.543 - ETA: 1s - loss: 1.3648 - acc: 0.543 - ETA: 1s - loss: 1.3664 - acc: 0.543 - ETA: 1s - loss: 1.3647 - acc: 0.544 - ETA: 1s - loss: 1.3635 - acc: 0.543 - ETA: 1s - loss: 1.3633 - acc: 0.543 - ETA: 0s - loss: 1.3655 - acc: 0.542 - ETA: 0s - loss: 1.3646 - acc: 0.543 - ETA: 0s - loss: 1.3654 - acc: 0.541 - ETA: 0s - loss: 1.3639 - acc: 0.542 - ETA: 0s - loss: 1.3629 - acc: 0.543 - ETA: 0s - loss: 1.3630 - acc: 0.544 - ETA: 0s - loss: 1.3638 - acc: 0.543 - ETA: 0s - loss: 1.3616 - acc: 0.544 - ETA: 0s - loss: 1.3591 - acc: 0.544 - ETA: 0s - loss: 1.3624 - acc: 0.543 - ETA: 0s - loss: 1.3615 - acc: 0.543 - ETA: 0s - loss: 1.3597 - acc: 0.543 - ETA: 0s - loss: 1.3608 - acc: 0.544 - ETA: 0s - loss: 1.3608 - acc: 0.544 - ETA: 0s - loss: 1.3597 - acc: 0.545 - ETA: 0s - loss: 1.3584 - acc: 0.544 - ETA: 0s - loss: 1.3573 - acc: 0.545 - 3s 165us/step - loss: 1.3580 - acc: 0.5454 - val_loss: 1.2986 - val_acc: 0.5689\n",
      "Epoch 40/50\n",
      "16530/16530 [==============================] - ETA: 1s - loss: 1.2902 - acc: 0.580 - ETA: 2s - loss: 1.3318 - acc: 0.566 - ETA: 2s - loss: 1.3235 - acc: 0.558 - ETA: 2s - loss: 1.3389 - acc: 0.555 - ETA: 2s - loss: 1.3442 - acc: 0.550 - ETA: 1s - loss: 1.3508 - acc: 0.550 - ETA: 2s - loss: 1.3397 - acc: 0.555 - ETA: 1s - loss: 1.3371 - acc: 0.557 - ETA: 1s - loss: 1.3402 - acc: 0.555 - ETA: 1s - loss: 1.3421 - acc: 0.554 - ETA: 1s - loss: 1.3466 - acc: 0.552 - ETA: 1s - loss: 1.3442 - acc: 0.555 - ETA: 1s - loss: 1.3421 - acc: 0.555 - ETA: 1s - loss: 1.3522 - acc: 0.552 - ETA: 1s - loss: 1.3575 - acc: 0.549 - ETA: 1s - loss: 1.3549 - acc: 0.550 - ETA: 1s - loss: 1.3536 - acc: 0.549 - ETA: 1s - loss: 1.3504 - acc: 0.551 - ETA: 1s - loss: 1.3541 - acc: 0.550 - ETA: 1s - loss: 1.3534 - acc: 0.550 - ETA: 1s - loss: 1.3522 - acc: 0.553 - ETA: 1s - loss: 1.3503 - acc: 0.553 - ETA: 1s - loss: 1.3504 - acc: 0.553 - ETA: 0s - loss: 1.3475 - acc: 0.552 - ETA: 0s - loss: 1.3467 - acc: 0.553 - ETA: 0s - loss: 1.3465 - acc: 0.553 - ETA: 0s - loss: 1.3462 - acc: 0.554 - ETA: 0s - loss: 1.3448 - acc: 0.554 - ETA: 0s - loss: 1.3459 - acc: 0.554 - ETA: 0s - loss: 1.3498 - acc: 0.553 - ETA: 0s - loss: 1.3507 - acc: 0.553 - ETA: 0s - loss: 1.3502 - acc: 0.553 - ETA: 0s - loss: 1.3540 - acc: 0.551 - ETA: 0s - loss: 1.3551 - acc: 0.550 - ETA: 0s - loss: 1.3556 - acc: 0.549 - ETA: 0s - loss: 1.3540 - acc: 0.550 - ETA: 0s - loss: 1.3558 - acc: 0.549 - ETA: 0s - loss: 1.3551 - acc: 0.549 - ETA: 0s - loss: 1.3562 - acc: 0.549 - 2s 148us/step - loss: 1.3575 - acc: 0.5494 - val_loss: 1.2829 - val_acc: 0.5923\n",
      "Epoch 41/50\n",
      "16530/16530 [==============================] - ETA: 2s - loss: 1.3161 - acc: 0.590 - ETA: 2s - loss: 1.3631 - acc: 0.553 - ETA: 2s - loss: 1.4510 - acc: 0.530 - ETA: 2s - loss: 1.3968 - acc: 0.540 - ETA: 1s - loss: 1.4047 - acc: 0.536 - ETA: 1s - loss: 1.3874 - acc: 0.545 - ETA: 1s - loss: 1.3811 - acc: 0.551 - ETA: 1s - loss: 1.3813 - acc: 0.553 - ETA: 1s - loss: 1.3837 - acc: 0.552 - ETA: 1s - loss: 1.3767 - acc: 0.553 - ETA: 1s - loss: 1.3723 - acc: 0.555 - ETA: 1s - loss: 1.3711 - acc: 0.554 - ETA: 1s - loss: 1.3653 - acc: 0.556 - ETA: 1s - loss: 1.3563 - acc: 0.557 - ETA: 1s - loss: 1.3514 - acc: 0.560 - ETA: 1s - loss: 1.3556 - acc: 0.558 - ETA: 1s - loss: 1.3498 - acc: 0.560 - ETA: 1s - loss: 1.3475 - acc: 0.560 - ETA: 1s - loss: 1.3454 - acc: 0.560 - ETA: 1s - loss: 1.3426 - acc: 0.559 - ETA: 1s - loss: 1.3493 - acc: 0.555 - ETA: 0s - loss: 1.3468 - acc: 0.556 - ETA: 0s - loss: 1.3507 - acc: 0.555 - ETA: 0s - loss: 1.3520 - acc: 0.554 - ETA: 0s - loss: 1.3527 - acc: 0.553 - ETA: 0s - loss: 1.3538 - acc: 0.552 - ETA: 0s - loss: 1.3562 - acc: 0.551 - ETA: 0s - loss: 1.3533 - acc: 0.552 - ETA: 0s - loss: 1.3556 - acc: 0.551 - ETA: 0s - loss: 1.3543 - acc: 0.549 - ETA: 0s - loss: 1.3516 - acc: 0.550 - ETA: 0s - loss: 1.3530 - acc: 0.551 - ETA: 0s - loss: 1.3518 - acc: 0.551 - ETA: 0s - loss: 1.3518 - acc: 0.551 - ETA: 0s - loss: 1.3518 - acc: 0.551 - ETA: 0s - loss: 1.3516 - acc: 0.551 - ETA: 0s - loss: 1.3544 - acc: 0.551 - ETA: 0s - loss: 1.3549 - acc: 0.552 - ETA: 0s - loss: 1.3542 - acc: 0.552 - 2s 146us/step - loss: 1.3552 - acc: 0.5524 - val_loss: 1.2942 - val_acc: 0.5705\n",
      "Epoch 42/50\n",
      "16530/16530 [==============================] - ETA: 1s - loss: 1.2351 - acc: 0.590 - ETA: 2s - loss: 1.4337 - acc: 0.525 - ETA: 2s - loss: 1.3830 - acc: 0.541 - ETA: 2s - loss: 1.3780 - acc: 0.541 - ETA: 1s - loss: 1.3780 - acc: 0.536 - ETA: 1s - loss: 1.3712 - acc: 0.544 - ETA: 1s - loss: 1.3696 - acc: 0.543 - ETA: 1s - loss: 1.3616 - acc: 0.550 - ETA: 1s - loss: 1.3741 - acc: 0.546 - ETA: 1s - loss: 1.3640 - acc: 0.549 - ETA: 1s - loss: 1.3685 - acc: 0.547 - ETA: 1s - loss: 1.3603 - acc: 0.550 - ETA: 1s - loss: 1.3610 - acc: 0.551 - ETA: 1s - loss: 1.3628 - acc: 0.550 - ETA: 1s - loss: 1.3655 - acc: 0.550 - ETA: 1s - loss: 1.3686 - acc: 0.548 - ETA: 1s - loss: 1.3644 - acc: 0.548 - ETA: 1s - loss: 1.3633 - acc: 0.548 - ETA: 1s - loss: 1.3636 - acc: 0.548 - ETA: 1s - loss: 1.3629 - acc: 0.547 - ETA: 1s - loss: 1.3643 - acc: 0.546 - ETA: 1s - loss: 1.3531 - acc: 0.551 - ETA: 0s - loss: 1.3545 - acc: 0.550 - ETA: 0s - loss: 1.3524 - acc: 0.552 - ETA: 0s - loss: 1.3526 - acc: 0.551 - ETA: 0s - loss: 1.3548 - acc: 0.551 - ETA: 0s - loss: 1.3569 - acc: 0.551 - ETA: 0s - loss: 1.3537 - acc: 0.552 - ETA: 0s - loss: 1.3514 - acc: 0.553 - ETA: 0s - loss: 1.3497 - acc: 0.553 - ETA: 0s - loss: 1.3473 - acc: 0.552 - ETA: 0s - loss: 1.3462 - acc: 0.553 - ETA: 0s - loss: 1.3452 - acc: 0.553 - ETA: 0s - loss: 1.3461 - acc: 0.553 - ETA: 0s - loss: 1.3474 - acc: 0.553 - ETA: 0s - loss: 1.3497 - acc: 0.553 - ETA: 0s - loss: 1.3500 - acc: 0.553 - ETA: 0s - loss: 1.3508 - acc: 0.553 - ETA: 0s - loss: 1.3500 - acc: 0.553 - 2s 143us/step - loss: 1.3493 - acc: 0.5534 - val_loss: 1.2648 - val_acc: 0.5890\n",
      "Epoch 43/50\n",
      "16530/16530 [==============================] - ETA: 2s - loss: 1.4766 - acc: 0.490 - ETA: 2s - loss: 1.3431 - acc: 0.558 - ETA: 1s - loss: 1.3181 - acc: 0.563 - ETA: 1s - loss: 1.3123 - acc: 0.570 - ETA: 1s - loss: 1.2973 - acc: 0.572 - ETA: 1s - loss: 1.3162 - acc: 0.562 - ETA: 1s - loss: 1.3177 - acc: 0.561 - ETA: 1s - loss: 1.3219 - acc: 0.561 - ETA: 1s - loss: 1.3273 - acc: 0.557 - ETA: 1s - loss: 1.3262 - acc: 0.558 - ETA: 1s - loss: 1.3267 - acc: 0.557 - ETA: 1s - loss: 1.3259 - acc: 0.556 - ETA: 1s - loss: 1.3240 - acc: 0.553 - ETA: 1s - loss: 1.3348 - acc: 0.551 - ETA: 1s - loss: 1.3374 - acc: 0.550 - ETA: 1s - loss: 1.3394 - acc: 0.550 - ETA: 1s - loss: 1.3404 - acc: 0.551 - ETA: 1s - loss: 1.3407 - acc: 0.550 - ETA: 1s - loss: 1.3427 - acc: 0.549 - ETA: 1s - loss: 1.3401 - acc: 0.551 - ETA: 1s - loss: 1.3376 - acc: 0.552 - ETA: 1s - loss: 1.3357 - acc: 0.552 - ETA: 0s - loss: 1.3398 - acc: 0.552 - ETA: 0s - loss: 1.3396 - acc: 0.553 - ETA: 0s - loss: 1.3432 - acc: 0.553 - ETA: 0s - loss: 1.3444 - acc: 0.552 - ETA: 0s - loss: 1.3438 - acc: 0.553 - ETA: 0s - loss: 1.3460 - acc: 0.552 - ETA: 0s - loss: 1.3482 - acc: 0.552 - ETA: 0s - loss: 1.3460 - acc: 0.552 - ETA: 0s - loss: 1.3460 - acc: 0.552 - ETA: 0s - loss: 1.3461 - acc: 0.553 - ETA: 0s - loss: 1.3448 - acc: 0.553 - ETA: 0s - loss: 1.3464 - acc: 0.553 - ETA: 0s - loss: 1.3447 - acc: 0.553 - ETA: 0s - loss: 1.3465 - acc: 0.553 - ETA: 0s - loss: 1.3469 - acc: 0.553 - ETA: 0s - loss: 1.3473 - acc: 0.554 - ETA: 0s - loss: 1.3484 - acc: 0.553 - ETA: 0s - loss: 1.3446 - acc: 0.555 - 3s 151us/step - loss: 1.3458 - acc: 0.5550 - val_loss: 1.2881 - val_acc: 0.5874\n"
     ]
    },
    {
     "name": "stdout",
     "output_type": "stream",
     "text": [
      "Epoch 44/50\n",
      "16530/16530 [==============================] - ETA: 2s - loss: 1.4207 - acc: 0.545 - ETA: 2s - loss: 1.3750 - acc: 0.556 - ETA: 2s - loss: 1.3792 - acc: 0.564 - ETA: 2s - loss: 1.4009 - acc: 0.559 - ETA: 2s - loss: 1.3771 - acc: 0.562 - ETA: 1s - loss: 1.3682 - acc: 0.565 - ETA: 1s - loss: 1.3741 - acc: 0.561 - ETA: 1s - loss: 1.3641 - acc: 0.562 - ETA: 1s - loss: 1.3668 - acc: 0.560 - ETA: 1s - loss: 1.3572 - acc: 0.563 - ETA: 1s - loss: 1.3562 - acc: 0.563 - ETA: 1s - loss: 1.3640 - acc: 0.560 - ETA: 1s - loss: 1.3690 - acc: 0.558 - ETA: 1s - loss: 1.3691 - acc: 0.556 - ETA: 1s - loss: 1.3655 - acc: 0.555 - ETA: 1s - loss: 1.3651 - acc: 0.557 - ETA: 1s - loss: 1.3605 - acc: 0.559 - ETA: 1s - loss: 1.3569 - acc: 0.560 - ETA: 1s - loss: 1.3559 - acc: 0.559 - ETA: 1s - loss: 1.3530 - acc: 0.561 - ETA: 1s - loss: 1.3556 - acc: 0.559 - ETA: 1s - loss: 1.3576 - acc: 0.560 - ETA: 0s - loss: 1.3573 - acc: 0.558 - ETA: 0s - loss: 1.3595 - acc: 0.557 - ETA: 0s - loss: 1.3557 - acc: 0.557 - ETA: 0s - loss: 1.3562 - acc: 0.556 - ETA: 0s - loss: 1.3584 - acc: 0.556 - ETA: 0s - loss: 1.3572 - acc: 0.556 - ETA: 0s - loss: 1.3577 - acc: 0.556 - ETA: 0s - loss: 1.3600 - acc: 0.555 - ETA: 0s - loss: 1.3610 - acc: 0.556 - ETA: 0s - loss: 1.3607 - acc: 0.556 - ETA: 0s - loss: 1.3610 - acc: 0.556 - ETA: 0s - loss: 1.3609 - acc: 0.556 - ETA: 0s - loss: 1.3583 - acc: 0.556 - ETA: 0s - loss: 1.3589 - acc: 0.556 - ETA: 0s - loss: 1.3580 - acc: 0.555 - ETA: 0s - loss: 1.3581 - acc: 0.555 - ETA: 0s - loss: 1.3553 - acc: 0.556 - 3s 158us/step - loss: 1.3533 - acc: 0.5574 - val_loss: 1.2842 - val_acc: 0.5890\n",
      "Epoch 45/50\n",
      "16530/16530 [==============================] - ETA: 2s - loss: 1.2084 - acc: 0.605 - ETA: 2s - loss: 1.3052 - acc: 0.586 - ETA: 2s - loss: 1.2929 - acc: 0.579 - ETA: 2s - loss: 1.3251 - acc: 0.571 - ETA: 2s - loss: 1.3450 - acc: 0.560 - ETA: 2s - loss: 1.3520 - acc: 0.559 - ETA: 2s - loss: 1.3513 - acc: 0.561 - ETA: 2s - loss: 1.3435 - acc: 0.563 - ETA: 2s - loss: 1.3475 - acc: 0.559 - ETA: 1s - loss: 1.3464 - acc: 0.558 - ETA: 1s - loss: 1.3539 - acc: 0.556 - ETA: 1s - loss: 1.3536 - acc: 0.556 - ETA: 1s - loss: 1.3488 - acc: 0.558 - ETA: 1s - loss: 1.3551 - acc: 0.554 - ETA: 1s - loss: 1.3541 - acc: 0.554 - ETA: 1s - loss: 1.3522 - acc: 0.555 - ETA: 1s - loss: 1.3551 - acc: 0.554 - ETA: 1s - loss: 1.3499 - acc: 0.555 - ETA: 1s - loss: 1.3541 - acc: 0.554 - ETA: 1s - loss: 1.3529 - acc: 0.553 - ETA: 1s - loss: 1.3467 - acc: 0.554 - ETA: 1s - loss: 1.3435 - acc: 0.556 - ETA: 1s - loss: 1.3412 - acc: 0.557 - ETA: 1s - loss: 1.3408 - acc: 0.556 - ETA: 1s - loss: 1.3418 - acc: 0.557 - ETA: 0s - loss: 1.3446 - acc: 0.555 - ETA: 0s - loss: 1.3489 - acc: 0.554 - ETA: 0s - loss: 1.3482 - acc: 0.553 - ETA: 0s - loss: 1.3466 - acc: 0.553 - ETA: 0s - loss: 1.3455 - acc: 0.554 - ETA: 0s - loss: 1.3479 - acc: 0.554 - ETA: 0s - loss: 1.3461 - acc: 0.555 - ETA: 0s - loss: 1.3459 - acc: 0.554 - ETA: 0s - loss: 1.3473 - acc: 0.555 - ETA: 0s - loss: 1.3462 - acc: 0.555 - ETA: 0s - loss: 1.3459 - acc: 0.556 - ETA: 0s - loss: 1.3460 - acc: 0.554 - ETA: 0s - loss: 1.3464 - acc: 0.554 - ETA: 0s - loss: 1.3447 - acc: 0.555 - ETA: 0s - loss: 1.3453 - acc: 0.555 - ETA: 0s - loss: 1.3474 - acc: 0.555 - ETA: 0s - loss: 1.3485 - acc: 0.554 - 3s 162us/step - loss: 1.3498 - acc: 0.5540 - val_loss: 1.2811 - val_acc: 0.5868\n",
      "Epoch 46/50\n",
      "16530/16530 [==============================] - ETA: 2s - loss: 1.3220 - acc: 0.535 - ETA: 2s - loss: 1.3411 - acc: 0.555 - ETA: 2s - loss: 1.3303 - acc: 0.555 - ETA: 2s - loss: 1.3509 - acc: 0.549 - ETA: 2s - loss: 1.3601 - acc: 0.550 - ETA: 2s - loss: 1.3315 - acc: 0.560 - ETA: 1s - loss: 1.3370 - acc: 0.558 - ETA: 1s - loss: 1.3520 - acc: 0.559 - ETA: 1s - loss: 1.3485 - acc: 0.559 - ETA: 1s - loss: 1.3465 - acc: 0.557 - ETA: 1s - loss: 1.3433 - acc: 0.557 - ETA: 1s - loss: 1.3421 - acc: 0.556 - ETA: 1s - loss: 1.3360 - acc: 0.558 - ETA: 1s - loss: 1.3432 - acc: 0.555 - ETA: 1s - loss: 1.3444 - acc: 0.555 - ETA: 1s - loss: 1.3380 - acc: 0.555 - ETA: 1s - loss: 1.3406 - acc: 0.555 - ETA: 1s - loss: 1.3388 - acc: 0.556 - ETA: 1s - loss: 1.3419 - acc: 0.556 - ETA: 1s - loss: 1.3443 - acc: 0.556 - ETA: 1s - loss: 1.3422 - acc: 0.557 - ETA: 1s - loss: 1.3445 - acc: 0.557 - ETA: 1s - loss: 1.3441 - acc: 0.556 - ETA: 0s - loss: 1.3430 - acc: 0.557 - ETA: 0s - loss: 1.3423 - acc: 0.558 - ETA: 0s - loss: 1.3417 - acc: 0.557 - ETA: 0s - loss: 1.3403 - acc: 0.558 - ETA: 0s - loss: 1.3377 - acc: 0.557 - ETA: 0s - loss: 1.3368 - acc: 0.557 - ETA: 0s - loss: 1.3382 - acc: 0.556 - ETA: 0s - loss: 1.3382 - acc: 0.556 - ETA: 0s - loss: 1.3403 - acc: 0.555 - ETA: 0s - loss: 1.3364 - acc: 0.557 - ETA: 0s - loss: 1.3363 - acc: 0.557 - ETA: 0s - loss: 1.3387 - acc: 0.557 - ETA: 0s - loss: 1.3404 - acc: 0.556 - ETA: 0s - loss: 1.3427 - acc: 0.556 - ETA: 0s - loss: 1.3421 - acc: 0.556 - ETA: 0s - loss: 1.3461 - acc: 0.555 - ETA: 0s - loss: 1.3488 - acc: 0.553 - 3s 155us/step - loss: 1.3497 - acc: 0.5534 - val_loss: 1.3052 - val_acc: 0.5727\n",
      "Epoch 47/50\n",
      "16530/16530 [==============================] - ETA: 2s - loss: 1.3402 - acc: 0.570 - ETA: 2s - loss: 1.3079 - acc: 0.545 - ETA: 2s - loss: 1.3071 - acc: 0.552 - ETA: 2s - loss: 1.3347 - acc: 0.545 - ETA: 2s - loss: 1.3130 - acc: 0.551 - ETA: 1s - loss: 1.3203 - acc: 0.551 - ETA: 1s - loss: 1.3211 - acc: 0.554 - ETA: 1s - loss: 1.3324 - acc: 0.549 - ETA: 1s - loss: 1.3397 - acc: 0.551 - ETA: 1s - loss: 1.3328 - acc: 0.552 - ETA: 1s - loss: 1.3357 - acc: 0.553 - ETA: 1s - loss: 1.3260 - acc: 0.556 - ETA: 1s - loss: 1.3214 - acc: 0.559 - ETA: 1s - loss: 1.3222 - acc: 0.560 - ETA: 1s - loss: 1.3274 - acc: 0.557 - ETA: 1s - loss: 1.3292 - acc: 0.556 - ETA: 1s - loss: 1.3303 - acc: 0.555 - ETA: 1s - loss: 1.3359 - acc: 0.555 - ETA: 1s - loss: 1.3327 - acc: 0.555 - ETA: 1s - loss: 1.3357 - acc: 0.554 - ETA: 1s - loss: 1.3331 - acc: 0.555 - ETA: 1s - loss: 1.3351 - acc: 0.554 - ETA: 1s - loss: 1.3372 - acc: 0.554 - ETA: 1s - loss: 1.3346 - acc: 0.556 - ETA: 0s - loss: 1.3336 - acc: 0.556 - ETA: 0s - loss: 1.3343 - acc: 0.555 - ETA: 0s - loss: 1.3386 - acc: 0.554 - ETA: 0s - loss: 1.3382 - acc: 0.555 - ETA: 0s - loss: 1.3369 - acc: 0.556 - ETA: 0s - loss: 1.3388 - acc: 0.556 - ETA: 0s - loss: 1.3392 - acc: 0.554 - ETA: 0s - loss: 1.3402 - acc: 0.554 - ETA: 0s - loss: 1.3382 - acc: 0.555 - ETA: 0s - loss: 1.3363 - acc: 0.556 - ETA: 0s - loss: 1.3356 - acc: 0.556 - ETA: 0s - loss: 1.3367 - acc: 0.554 - ETA: 0s - loss: 1.3385 - acc: 0.554 - ETA: 0s - loss: 1.3393 - acc: 0.554 - ETA: 0s - loss: 1.3375 - acc: 0.554 - 2s 148us/step - loss: 1.3402 - acc: 0.5544 - val_loss: 1.2884 - val_acc: 0.5857\n",
      "Epoch 48/50\n",
      "16530/16530 [==============================] - ETA: 2s - loss: 1.2505 - acc: 0.610 - ETA: 1s - loss: 1.3458 - acc: 0.560 - ETA: 1s - loss: 1.3668 - acc: 0.545 - ETA: 2s - loss: 1.3691 - acc: 0.550 - ETA: 1s - loss: 1.3607 - acc: 0.554 - ETA: 1s - loss: 1.3495 - acc: 0.559 - ETA: 1s - loss: 1.3544 - acc: 0.555 - ETA: 1s - loss: 1.3482 - acc: 0.556 - ETA: 1s - loss: 1.3583 - acc: 0.554 - ETA: 1s - loss: 1.3559 - acc: 0.555 - ETA: 1s - loss: 1.3578 - acc: 0.551 - ETA: 1s - loss: 1.3515 - acc: 0.553 - ETA: 1s - loss: 1.3633 - acc: 0.548 - ETA: 1s - loss: 1.3579 - acc: 0.550 - ETA: 1s - loss: 1.3563 - acc: 0.549 - ETA: 1s - loss: 1.3547 - acc: 0.552 - ETA: 1s - loss: 1.3533 - acc: 0.553 - ETA: 1s - loss: 1.3466 - acc: 0.555 - ETA: 1s - loss: 1.3490 - acc: 0.555 - ETA: 1s - loss: 1.3525 - acc: 0.554 - ETA: 1s - loss: 1.3490 - acc: 0.555 - ETA: 0s - loss: 1.3477 - acc: 0.555 - ETA: 0s - loss: 1.3519 - acc: 0.555 - ETA: 0s - loss: 1.3524 - acc: 0.555 - ETA: 0s - loss: 1.3523 - acc: 0.554 - ETA: 0s - loss: 1.3536 - acc: 0.554 - ETA: 0s - loss: 1.3520 - acc: 0.554 - ETA: 0s - loss: 1.3557 - acc: 0.553 - ETA: 0s - loss: 1.3542 - acc: 0.553 - ETA: 0s - loss: 1.3525 - acc: 0.554 - ETA: 0s - loss: 1.3504 - acc: 0.554 - ETA: 0s - loss: 1.3518 - acc: 0.553 - ETA: 0s - loss: 1.3523 - acc: 0.553 - ETA: 0s - loss: 1.3518 - acc: 0.553 - ETA: 0s - loss: 1.3522 - acc: 0.552 - ETA: 0s - loss: 1.3493 - acc: 0.552 - 2s 144us/step - loss: 1.3497 - acc: 0.5526 - val_loss: 1.2709 - val_acc: 0.5955\n",
      "Epoch 49/50\n",
      "16530/16530 [==============================] - ETA: 2s - loss: 1.3438 - acc: 0.555 - ETA: 2s - loss: 1.3248 - acc: 0.570 - ETA: 2s - loss: 1.3298 - acc: 0.559 - ETA: 2s - loss: 1.3681 - acc: 0.546 - ETA: 1s - loss: 1.3414 - acc: 0.556 - ETA: 1s - loss: 1.3289 - acc: 0.558 - ETA: 1s - loss: 1.3262 - acc: 0.561 - ETA: 1s - loss: 1.3222 - acc: 0.559 - ETA: 1s - loss: 1.3221 - acc: 0.558 - ETA: 1s - loss: 1.3275 - acc: 0.555 - ETA: 1s - loss: 1.3220 - acc: 0.556 - ETA: 1s - loss: 1.3219 - acc: 0.558 - ETA: 1s - loss: 1.3166 - acc: 0.561 - ETA: 1s - loss: 1.3156 - acc: 0.561 - ETA: 1s - loss: 1.3158 - acc: 0.561 - ETA: 1s - loss: 1.3276 - acc: 0.558 - ETA: 1s - loss: 1.3255 - acc: 0.559 - ETA: 1s - loss: 1.3197 - acc: 0.561 - ETA: 1s - loss: 1.3243 - acc: 0.559 - ETA: 1s - loss: 1.3204 - acc: 0.560 - ETA: 0s - loss: 1.3232 - acc: 0.559 - ETA: 0s - loss: 1.3259 - acc: 0.560 - ETA: 0s - loss: 1.3271 - acc: 0.559 - ETA: 0s - loss: 1.3330 - acc: 0.557 - ETA: 0s - loss: 1.3349 - acc: 0.555 - ETA: 0s - loss: 1.3367 - acc: 0.555 - ETA: 0s - loss: 1.3377 - acc: 0.553 - ETA: 0s - loss: 1.3382 - acc: 0.554 - ETA: 0s - loss: 1.3440 - acc: 0.552 - ETA: 0s - loss: 1.3441 - acc: 0.552 - ETA: 0s - loss: 1.3414 - acc: 0.553 - ETA: 0s - loss: 1.3413 - acc: 0.553 - ETA: 0s - loss: 1.3425 - acc: 0.553 - ETA: 0s - loss: 1.3426 - acc: 0.553 - ETA: 0s - loss: 1.3423 - acc: 0.553 - ETA: 0s - loss: 1.3428 - acc: 0.553 - ETA: 0s - loss: 1.3439 - acc: 0.553 - ETA: 0s - loss: 1.3432 - acc: 0.552 - 2s 147us/step - loss: 1.3423 - acc: 0.5525 - val_loss: 1.2694 - val_acc: 0.5879\n",
      "Epoch 50/50\n",
      "16530/16530 [==============================] - ETA: 1s - loss: 1.3977 - acc: 0.580 - ETA: 1s - loss: 1.3157 - acc: 0.573 - ETA: 1s - loss: 1.3414 - acc: 0.565 - ETA: 1s - loss: 1.3337 - acc: 0.564 - ETA: 1s - loss: 1.3333 - acc: 0.558 - ETA: 1s - loss: 1.3404 - acc: 0.557 - ETA: 1s - loss: 1.3337 - acc: 0.560 - ETA: 1s - loss: 1.3329 - acc: 0.560 - ETA: 1s - loss: 1.3228 - acc: 0.565 - ETA: 1s - loss: 1.3281 - acc: 0.562 - ETA: 1s - loss: 1.3380 - acc: 0.559 - ETA: 1s - loss: 1.3458 - acc: 0.556 - ETA: 1s - loss: 1.3511 - acc: 0.556 - ETA: 1s - loss: 1.3538 - acc: 0.556 - ETA: 1s - loss: 1.3610 - acc: 0.554 - ETA: 1s - loss: 1.3597 - acc: 0.554 - ETA: 1s - loss: 1.3551 - acc: 0.557 - ETA: 1s - loss: 1.3499 - acc: 0.559 - ETA: 1s - loss: 1.3477 - acc: 0.559 - ETA: 1s - loss: 1.3447 - acc: 0.560 - ETA: 1s - loss: 1.3439 - acc: 0.560 - ETA: 1s - loss: 1.3389 - acc: 0.562 - ETA: 0s - loss: 1.3382 - acc: 0.563 - ETA: 0s - loss: 1.3361 - acc: 0.563 - ETA: 0s - loss: 1.3340 - acc: 0.563 - ETA: 0s - loss: 1.3300 - acc: 0.564 - ETA: 0s - loss: 1.3357 - acc: 0.563 - ETA: 0s - loss: 1.3355 - acc: 0.562 - ETA: 0s - loss: 1.3354 - acc: 0.564 - ETA: 0s - loss: 1.3334 - acc: 0.565 - ETA: 0s - loss: 1.3350 - acc: 0.563 - ETA: 0s - loss: 1.3357 - acc: 0.562 - ETA: 0s - loss: 1.3350 - acc: 0.562 - ETA: 0s - loss: 1.3359 - acc: 0.561 - ETA: 0s - loss: 1.3366 - acc: 0.561 - ETA: 0s - loss: 1.3357 - acc: 0.562 - ETA: 0s - loss: 1.3361 - acc: 0.562 - ETA: 0s - loss: 1.3350 - acc: 0.561 - ETA: 0s - loss: 1.3346 - acc: 0.561 - 3s 152us/step - loss: 1.3377 - acc: 0.5600 - val_loss: 1.3602 - val_acc: 0.5438\n"
     ]
    },
    {
     "data": {
      "text/plain": [
       "<keras.callbacks.History at 0x2b933e77eb8>"
      ]
     },
     "execution_count": 343,
     "metadata": {},
     "output_type": "execute_result"
    }
   ],
   "source": [
    "# Compile model\n",
    "model.compile(loss='categorical_crossentropy', optimizer='RMSprop', metrics=['accuracy'])\n",
    "# Fit the model\n",
    "model.fit(X_training, crop_imgs_lab,validation_split=0.1, epochs=50, batch_size=200)"
   ]
  },
  {
   "cell_type": "code",
   "execution_count": 347,
   "metadata": {},
   "outputs": [
    {
     "name": "stdout",
     "output_type": "stream",
     "text": [
      "[0 8 8 4 0 4 9 4 2 0]\n"
     ]
    }
   ],
   "source": [
    "pred = model.predict(X_training[:15])\n",
    "\n",
    "# Class prediction\n",
    "pred_class = model.predict_classes(X_training[:10])\n",
    "print(pred_class[:10])"
   ]
  },
  {
   "cell_type": "code",
   "execution_count": 25,
   "metadata": {},
   "outputs": [],
   "source": [
    "f2= h5py.File('E:/Text recog/test/digitStruct.mat','r')"
   ]
  },
  {
   "cell_type": "code",
   "execution_count": 22,
   "metadata": {},
   "outputs": [
    {
     "name": "stdout",
     "output_type": "stream",
     "text": [
      "33402\n"
     ]
    }
   ],
   "source": [
    "# Importing TestDAtaset\n",
    "\n",
    "\n",
    "\n",
    "PATH2 = r'E:/Text recog/test/*.png'\n",
    "files2 = glob.glob(PATH2)\n",
    "X_train2 = [ None for i in range(len(files2))]\n",
    "print(len(files))\n",
    "for fl2 in files2 :\n",
    "    flbase2 = os.path.basename(fl2)\n",
    "    idx2 = int(flbase2[:-4])-1\n",
    "    img2 = cv2.imread(fl2, 0)\n",
    "    #X_train.append(img)\n",
    "    #X_name.append(flbase)\n",
    "    X_train2[idx2] = img2"
   ]
  },
  {
   "cell_type": "code",
   "execution_count": 23,
   "metadata": {},
   "outputs": [],
   "source": [
    "# Function to import box data for test\n",
    "\n",
    "def get_box_data_test(index, f2):\n",
    "    \"\"\"\n",
    "    get `left, top, width, height` of each picture\n",
    "    :param index:\n",
    "    :param hdf5_data:\n",
    "    :return:\n",
    "    \"\"\"\n",
    "    meta_data = dict()\n",
    "    meta_data['height'] = []\n",
    "    meta_data['label'] = []\n",
    "    meta_data['left'] = []\n",
    "    meta_data['top'] = []\n",
    "    meta_data['width'] = []\n",
    "\n",
    "    def print_attrs_test(name, obj):\n",
    "        vals = []\n",
    "        if obj.shape[0] == 1:\n",
    "            vals.append(int(obj[0][0]))\n",
    "        else:\n",
    "            for k in range(obj.shape[0]):\n",
    "                vals.append(int(f2[obj[k][0]][0][0]))\n",
    "        meta_data[name] = vals\n",
    "\n",
    "    box = f2['/digitStruct/bbox'][index]\n",
    "    f2[box[0]].visititems(print_attrs_test)\n",
    "    return meta_data\n",
    "\n",
    "#def get_name_test(index, f2):\n",
    " #   name = f2['/digitStruct/name']\n",
    "  #  return ''.join([chr(v[0]) for v in f2[name[index][0]].value])"
   ]
  },
  {
   "cell_type": "code",
   "execution_count": 27,
   "metadata": {},
   "outputs": [
    {
     "data": {
      "text/plain": [
       "{'height': [16], 'label': [6], 'left': [61], 'top': [6], 'width': [11]}"
      ]
     },
     "execution_count": 27,
     "metadata": {},
     "output_type": "execute_result"
    }
   ],
   "source": [
    "get_box_data_test(2,f2)"
   ]
  },
  {
   "cell_type": "code",
   "execution_count": 28,
   "metadata": {},
   "outputs": [],
   "source": [
    "#cropping images for test\n",
    "crop_imgs_test = []\n",
    "\n",
    "for i in range(int(len(files2)/4)) :\n",
    "    for j in range(len(get_box_data_test(i,f2)['height'])):\n",
    "        x = get_box_data_test(i,f2)['left'][j]\n",
    "        y = get_box_data_test(i,f2)['top'][j]\n",
    "        w = get_box_data_test(i,f2)['width'][j]\n",
    "        h = get_box_data_test(i,f2)['height'][j]\n",
    "\n",
    "        crop_test = X_train2[i][y:y+h, x:x+w]\n",
    "        crop_imgs_test.append(crop_test) \n",
    "        #crop_imgs_label.append(get_box_data(i,f)['label'][j])\n",
    "       \n",
    "\n"
   ]
  },
  {
   "cell_type": "code",
   "execution_count": 372,
   "metadata": {},
   "outputs": [
    {
     "data": {
      "image/png": "[encoded data removed]",
      "text/plain": [
       "<matplotlib.figure.Figure at 0x2b934325e10>"
      ]
     },
     "metadata": {},
     "output_type": "display_data"
    }
   ],
   "source": [
    "plt.imshow(crop_imgs_test[3])\n",
    "plt.show()"
   ]
  },
  {
   "cell_type": "code",
   "execution_count": 412,
   "metadata": {},
   "outputs": [
    {
     "name": "stdout",
     "output_type": "stream",
     "text": [
      "662 (18, 0)\n",
      "842 (60, 0)\n",
      "1017 (52, 0)\n",
      "5186 (71, 0)\n"
     ]
    }
   ],
   "source": [
    "# Making the test images into squares \n",
    "\n",
    "\n",
    "sqr_img_test = []\n",
    "for i in range(len(crop_imgs_test)):\n",
    "    \n",
    "    im_test = crop_imgs_test[i]\n",
    "    if im_test.shape[0] >= im_test.shape[1] :\n",
    "        sqrWidth2 = im_test.shape[0]\n",
    "    else :\n",
    "        sqrWidth2 = im_test.shape[1]\n",
    "    assert(sqrWidth2>0)\n",
    "    #assert(np.size(im)>0)\n",
    "    if(np.size(im_test)==0):\n",
    "        print(i,im_test.shape)\n",
    "        continue\n",
    "    im_test_resize = cv2.resize(im_test, (sqrWidth2, sqrWidth2),interpolation = cv2.INTER_CUBIC )\n",
    "    sqr_img_test.append(im_test_resize)"
   ]
  },
  {
   "cell_type": "code",
   "execution_count": 413,
   "metadata": {},
   "outputs": [],
   "source": [
    "#Making all images to 36*36\n",
    "\n",
    "sqr_img_small_test = []\n",
    "\n",
    "for i in range(len(sqr_img_test)):\n",
    "    \n",
    "    im3 = sqr_img_test[i]\n",
    "    \n",
    "    im_resize3 = cv2.resize(im3, (36, 36),interpolation = cv2.INTER_CUBIC )\n",
    "    sqr_img_small_test.append(im_resize3)"
   ]
  },
  {
   "cell_type": "code",
   "execution_count": 414,
   "metadata": {},
   "outputs": [
    {
     "data": {
      "image/png": "[encoded data removed]",
      "text/plain": [
       "<matplotlib.figure.Figure at 0x2b934514748>"
      ]
     },
     "metadata": {},
     "output_type": "display_data"
    },
    {
     "name": "stdout",
     "output_type": "stream",
     "text": [
      "(36, 36)\n"
     ]
    }
   ],
   "source": [
    "plt.imshow(sqr_img_small_test[3])\n",
    "plt.show()\n",
    "print(sqr_img_small_test[3].shape)"
   ]
  },
  {
   "cell_type": "code",
   "execution_count": 415,
   "metadata": {},
   "outputs": [],
   "source": [
    "sqr_img_small_test = np.asarray(sqr_img_small_test)"
   ]
  },
  {
   "cell_type": "code",
   "execution_count": 416,
   "metadata": {},
   "outputs": [
    {
     "data": {
      "text/plain": [
       "(36, 36)"
      ]
     },
     "execution_count": 416,
     "metadata": {},
     "output_type": "execute_result"
    }
   ],
   "source": [
    "sqr_img_small_test[0].shape"
   ]
  },
  {
   "cell_type": "code",
   "execution_count": 417,
   "metadata": {},
   "outputs": [],
   "source": [
    "sqr_img_small_test = sqr_img_small_test.reshape(sqr_img_small_test.shape[0], 36, 36,1)"
   ]
  },
  {
   "cell_type": "code",
   "execution_count": 418,
   "metadata": {},
   "outputs": [
    {
     "name": "stdout",
     "output_type": "stream",
     "text": [
      "[4 2 0 5 5 0 7 0 0 7 4 5 4 0 0 0 0 5 0 3]\n"
     ]
    }
   ],
   "source": [
    "pred = model.predict(sqr_img_small_test[:20])\n",
    "\n",
    "# Class prediction\n",
    "pred_class = model.predict_classes(sqr_img_small_test[:20])\n",
    "print(pred_class[:20])"
   ]
  },
  {
   "cell_type": "code",
   "execution_count": null,
   "metadata": {},
   "outputs": [],
   "source": []
  },
  {
   "cell_type": "code",
   "execution_count": null,
   "metadata": {},
   "outputs": [],
   "source": []
  }
 ],
 "metadata": {
  "kernelspec": {
   "display_name": "Python 3",
   "language": "python",
   "name": "python3"
  },
  "language_info": {
   "codemirror_mode": {
    "name": "ipython",
    "version": 3
   },
   "file_extension": ".py",
   "mimetype": "text/x-python",
   "name": "python",
   "nbconvert_exporter": "python",
   "pygments_lexer": "ipython3",
   "version": "3.6.4"
  }
 },
 "nbformat": 4,
 "nbformat_minor": 2
}
